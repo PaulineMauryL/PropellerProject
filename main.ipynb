{
 "cells": [
  {
   "cell_type": "code",
   "execution_count": 1,
   "metadata": {
    "collapsed": true
   },
   "outputs": [],
   "source": [
    "#Pretty Display of Variables\n",
    "from IPython.core.interactiveshell import InteractiveShell\n",
    "InteractiveShell.ast_node_interactivity = \"all\""
   ]
  },
  {
   "cell_type": "code",
   "execution_count": 2,
   "metadata": {
    "collapsed": true
   },
   "outputs": [],
   "source": [
    "#%autoreload"
   ]
  },
  {
   "cell_type": "markdown",
   "metadata": {},
   "source": [
    "# Import libraries"
   ]
  },
  {
   "cell_type": "code",
   "execution_count": 3,
   "metadata": {
    "collapsed": true
   },
   "outputs": [],
   "source": [
    "from plot_projections import plot_all_projections, plot_final_projections, plot_point_for_couple, plot_projection_up_down, plot_border\n",
    "from prop_info import extreme_points, vect_blade, d_blade, center_prop\n",
    "from get_segments import blade_alone, get_segments_points, get_planes\n",
    "from major_axis import get_major_axis\n",
    "#from projections import couple_all_planes, project_all_couples, projections_by_side, project_couple\n",
    "from new_projections import assign_points, get_all_points_for_projections, interpolations, find_separation_plane, interpolate_points, model_func, points_from_curve\n",
    "from parameters import get_hub_points, get_hub_radius\n",
    "from plot_param import plot_hub\n",
    "from plot_prop import plot_pointcloud, plot_direction, plot_segments\n",
    "from myMathFunction import least_squares, point_on_plane\n",
    "import matplotlib.pyplot as plt\n",
    "\n",
    "import pandas as pd\n",
    "import numpy as np"
   ]
  },
  {
   "cell_type": "markdown",
   "metadata": {},
   "source": [
    "# Pre-processing"
   ]
  },
  {
   "cell_type": "code",
   "execution_count": 4,
   "metadata": {},
   "outputs": [
    {
     "data": {
      "text/plain": [
       "(151986, 3)"
      ]
     },
     "execution_count": 4,
     "metadata": {},
     "output_type": "execute_result"
    }
   ],
   "source": [
    "propeller_coords = pd.read_csv('aerostar_data.csv')\n",
    "propeller_coords.shape"
   ]
  },
  {
   "cell_type": "code",
   "execution_count": 5,
   "metadata": {
    "collapsed": true
   },
   "outputs": [],
   "source": [
    "propeller_coords = propeller_coords.drop_duplicates(subset=None, keep='first', inplace=False)\n",
    "propeller_coords = propeller_coords.reset_index(drop=True)"
   ]
  },
  {
   "cell_type": "code",
   "execution_count": 6,
   "metadata": {
    "collapsed": true
   },
   "outputs": [],
   "source": [
    "max_point, min_point, middle_point, highest_point, lowest_point = extreme_points(propeller_coords)\n",
    "\n",
    "vect_length = vect_blade(max_point, min_point) \n",
    "\n",
    "dmiddle, dhighest, dlowest = d_blade(vect_length, middle_point, highest_point, lowest_point)\n",
    "\n",
    "upper_blade, lower_blade = blade_alone(propeller_coords, vect_length, dmiddle)\n",
    "\n",
    "vect_out, vect_side, hub_inner_radius = get_major_axis(propeller_coords, middle_point, vect_length)"
   ]
  },
  {
   "cell_type": "markdown",
   "metadata": {},
   "source": [
    "# Projections"
   ]
  },
  {
   "cell_type": "code",
   "execution_count": 7,
   "metadata": {
    "collapsed": true
   },
   "outputs": [],
   "source": [
    "nb_seg = 3\n",
    "resolution = 3\n",
    "nb_points = 100\n",
    "\n",
    "planes = get_planes(upper_blade, dmiddle, dhighest, vect_length, nb_seg)\n",
    "segments = get_segments_points(upper_blade, planes, nb_seg)\n",
    "#plot_segments(segments)\n",
    "\n",
    "up, down = get_all_points_for_projections(planes, segments, nb_seg, resolution)"
   ]
  },
  {
   "cell_type": "code",
   "execution_count": 8,
   "metadata": {
    "collapsed": true
   },
   "outputs": [],
   "source": [
    "up1 = up[0]\n",
    "dn1 = down[0]\n",
    "plan1 = planes[0]\n",
    "#print(up1.shape)"
   ]
  },
  {
   "cell_type": "code",
   "execution_count": 9,
   "metadata": {
    "collapsed": true
   },
   "outputs": [],
   "source": [
    "# 1. Find border points\n",
    "up_side1_border, up_side2_border, _, _, _ = extreme_points(up1)\n",
    "dn_side1_border, dn_side2_border, _, _, _ = extreme_points(dn1)\n",
    "#print(\"up_right {}\\n\".format(up_right))"
   ]
  },
  {
   "cell_type": "code",
   "execution_count": 10,
   "metadata": {
    "collapsed": true
   },
   "outputs": [],
   "source": [
    "# 2. Find separating plane\n",
    "C_up = find_separation_plane(up1.values)\n",
    "C_dn = find_separation_plane(dn1.values)\n",
    "# Z = C[4]*X**2. + C[5]*Y**2. + C[3]*X*Y + C[1]*X + C[2]*Y + C[0]\n",
    "#print(\"C_up {}\\n\".format(C_up))"
   ]
  },
  {
   "cell_type": "code",
   "execution_count": 11,
   "metadata": {
    "collapsed": true
   },
   "outputs": [],
   "source": [
    "# 3. Assign point to side  (do it for both sides on both sides)\n",
    "up_right_points, up_left_points = assign_points(C_up, up1)\n",
    "dn_right_points, dn_left_points = assign_points(C_dn, dn1)\n",
    "#print(\"right_points_up_shape {}\\n\".format(up_right_points.shape))"
   ]
  },
  {
   "cell_type": "code",
   "execution_count": 12,
   "metadata": {
    "collapsed": true
   },
   "outputs": [],
   "source": [
    "# Add border points to fit\n",
    "up_right_points = up_right_points.append(pd.DataFrame(up_side1_border.reshape(1, 3), columns = [\"X\",\"Y\",\"Z\"]))\n",
    "up_right_points = up_right_points.append(pd.DataFrame(up_side2_border.reshape(1, 3), columns = [\"X\",\"Y\",\"Z\"]))\n",
    "#print(\"up_right_points_shape {}\\n\".format(up_right_points.shape))"
   ]
  },
  {
   "cell_type": "code",
   "execution_count": 21,
   "metadata": {
    "collapsed": true
   },
   "outputs": [],
   "source": [
    "from scipy.optimize import curve_fit\n",
    "def interpolate_points(up1):\n",
    "    data = np.c_[up1.values[:,0], up1.values[:,1]]\n",
    "    z = up1.values[:,2]\n",
    "\n",
    "    sigma = np.ones(len(data))\n",
    "    sigma[[-1, -2]] = 0.1  #assign more weight to border points\n",
    "    popt, pcov = curve_fit(model_func, data, z, sigma=sigma)    \n",
    "    return popt"
   ]
  },
  {
   "cell_type": "code",
   "execution_count": 22,
   "metadata": {
    "collapsed": true
   },
   "outputs": [],
   "source": [
    "# 4. Interpolate points\n",
    "up_right_popt = interpolate_points(up_right_points)\n",
    "up_left_popt = interpolate_points(up_left_points)\n",
    "dn_right_popt = interpolate_points(dn_right_points)\n",
    "dn_left_popt = interpolate_points(dn_left_points)"
   ]
  },
  {
   "cell_type": "code",
   "execution_count": 24,
   "metadata": {},
   "outputs": [],
   "source": [
    "# 5. Final projection\n",
    "# Take points on each side\n",
    "up_right_pts = points_from_curve(up_side1_border, up_side2_border, nb_points, up_right_popt)\n",
    "dn_right_pts = points_from_curve(dn_side1_border, dn_side2_border, nb_points, dn_right_popt)\n",
    "\n",
    "up_left_pts = points_from_curve(up_side1_border, up_side2_border, nb_points, up_left_popt) \n",
    "dn_left_pts = points_from_curve(dn_side1_border, dn_side2_border, nb_points, dn_left_popt)"
   ]
  },
  {
   "cell_type": "code",
   "execution_count": 36,
   "metadata": {
    "collapsed": true
   },
   "outputs": [],
   "source": [
    "# Projection de la ligne reliant 2 points sur le plan\n",
    "proj_right = []\n",
    "proj_left = []\n",
    "labels = ['X', 'Y', 'Z']\n",
    "for i in range(0, up_right_pts.shape[0]):\n",
    "    proj_right.append(point_on_plane(up_right_pts[i], dn_right_pts[i], plan1))\n",
    "    proj_left.append(point_on_plane(up_left_pts[i], dn_left_pts[i], plan1))\n",
    "proj_right_df = pd.DataFrame(proj_right, columns = labels)\n",
    "proj_left_df = pd.DataFrame(proj_left, columns = labels)"
   ]
  },
  {
   "cell_type": "code",
   "execution_count": 33,
   "metadata": {
    "collapsed": true
   },
   "outputs": [],
   "source": [
    "projection_right = interpolate_points(proj_right_df)"
   ]
  },
  {
   "cell_type": "code",
   "execution_count": 37,
   "metadata": {},
   "outputs": [
    {
     "data": {
      "text/html": [
       "<div>\n",
       "<style>\n",
       "    .dataframe thead tr:only-child th {\n",
       "        text-align: right;\n",
       "    }\n",
       "\n",
       "    .dataframe thead th {\n",
       "        text-align: left;\n",
       "    }\n",
       "\n",
       "    .dataframe tbody tr th {\n",
       "        vertical-align: top;\n",
       "    }\n",
       "</style>\n",
       "<table border=\"1\" class=\"dataframe\">\n",
       "  <thead>\n",
       "    <tr style=\"text-align: right;\">\n",
       "      <th></th>\n",
       "      <th>X</th>\n",
       "      <th>Y</th>\n",
       "      <th>Z</th>\n",
       "    </tr>\n",
       "  </thead>\n",
       "  <tbody>\n",
       "    <tr>\n",
       "      <th>0</th>\n",
       "      <td>0.036879</td>\n",
       "      <td>12.997339</td>\n",
       "      <td>-11.267194</td>\n",
       "    </tr>\n",
       "    <tr>\n",
       "      <th>1</th>\n",
       "      <td>0.037288</td>\n",
       "      <td>12.870880</td>\n",
       "      <td>-11.038369</td>\n",
       "    </tr>\n",
       "    <tr>\n",
       "      <th>2</th>\n",
       "      <td>0.037690</td>\n",
       "      <td>12.744380</td>\n",
       "      <td>-10.814061</td>\n",
       "    </tr>\n",
       "    <tr>\n",
       "      <th>3</th>\n",
       "      <td>0.038085</td>\n",
       "      <td>12.617839</td>\n",
       "      <td>-10.594228</td>\n",
       "    </tr>\n",
       "    <tr>\n",
       "      <th>4</th>\n",
       "      <td>0.038473</td>\n",
       "      <td>12.491255</td>\n",
       "      <td>-10.378826</td>\n",
       "    </tr>\n",
       "    <tr>\n",
       "      <th>5</th>\n",
       "      <td>0.038855</td>\n",
       "      <td>12.364630</td>\n",
       "      <td>-10.167812</td>\n",
       "    </tr>\n",
       "    <tr>\n",
       "      <th>6</th>\n",
       "      <td>0.039229</td>\n",
       "      <td>12.237963</td>\n",
       "      <td>-9.961143</td>\n",
       "    </tr>\n",
       "    <tr>\n",
       "      <th>7</th>\n",
       "      <td>0.039597</td>\n",
       "      <td>12.111253</td>\n",
       "      <td>-9.758777</td>\n",
       "    </tr>\n",
       "    <tr>\n",
       "      <th>8</th>\n",
       "      <td>0.039959</td>\n",
       "      <td>11.984501</td>\n",
       "      <td>-9.560669</td>\n",
       "    </tr>\n",
       "    <tr>\n",
       "      <th>9</th>\n",
       "      <td>0.040314</td>\n",
       "      <td>11.857707</td>\n",
       "      <td>-9.366777</td>\n",
       "    </tr>\n",
       "    <tr>\n",
       "      <th>10</th>\n",
       "      <td>0.040662</td>\n",
       "      <td>11.730869</td>\n",
       "      <td>-9.177057</td>\n",
       "    </tr>\n",
       "    <tr>\n",
       "      <th>11</th>\n",
       "      <td>0.041004</td>\n",
       "      <td>11.603990</td>\n",
       "      <td>-8.991466</td>\n",
       "    </tr>\n",
       "    <tr>\n",
       "      <th>12</th>\n",
       "      <td>0.041340</td>\n",
       "      <td>11.477067</td>\n",
       "      <td>-8.809960</td>\n",
       "    </tr>\n",
       "    <tr>\n",
       "      <th>13</th>\n",
       "      <td>0.041669</td>\n",
       "      <td>11.350101</td>\n",
       "      <td>-8.632498</td>\n",
       "    </tr>\n",
       "    <tr>\n",
       "      <th>14</th>\n",
       "      <td>0.041993</td>\n",
       "      <td>11.223092</td>\n",
       "      <td>-8.459034</td>\n",
       "    </tr>\n",
       "    <tr>\n",
       "      <th>15</th>\n",
       "      <td>0.042310</td>\n",
       "      <td>11.096039</td>\n",
       "      <td>-8.289526</td>\n",
       "    </tr>\n",
       "    <tr>\n",
       "      <th>16</th>\n",
       "      <td>0.042621</td>\n",
       "      <td>10.968943</td>\n",
       "      <td>-8.123930</td>\n",
       "    </tr>\n",
       "    <tr>\n",
       "      <th>17</th>\n",
       "      <td>0.042926</td>\n",
       "      <td>10.841804</td>\n",
       "      <td>-7.962202</td>\n",
       "    </tr>\n",
       "    <tr>\n",
       "      <th>18</th>\n",
       "      <td>0.043226</td>\n",
       "      <td>10.714620</td>\n",
       "      <td>-7.804300</td>\n",
       "    </tr>\n",
       "    <tr>\n",
       "      <th>19</th>\n",
       "      <td>0.043519</td>\n",
       "      <td>10.587393</td>\n",
       "      <td>-7.650180</td>\n",
       "    </tr>\n",
       "    <tr>\n",
       "      <th>20</th>\n",
       "      <td>0.043807</td>\n",
       "      <td>10.460122</td>\n",
       "      <td>-7.499797</td>\n",
       "    </tr>\n",
       "    <tr>\n",
       "      <th>21</th>\n",
       "      <td>0.044089</td>\n",
       "      <td>10.332806</td>\n",
       "      <td>-7.353109</td>\n",
       "    </tr>\n",
       "    <tr>\n",
       "      <th>22</th>\n",
       "      <td>0.044365</td>\n",
       "      <td>10.205446</td>\n",
       "      <td>-7.210073</td>\n",
       "    </tr>\n",
       "    <tr>\n",
       "      <th>23</th>\n",
       "      <td>0.044636</td>\n",
       "      <td>10.078042</td>\n",
       "      <td>-7.070643</td>\n",
       "    </tr>\n",
       "    <tr>\n",
       "      <th>24</th>\n",
       "      <td>0.044901</td>\n",
       "      <td>9.950593</td>\n",
       "      <td>-6.934777</td>\n",
       "    </tr>\n",
       "    <tr>\n",
       "      <th>25</th>\n",
       "      <td>0.045161</td>\n",
       "      <td>9.823099</td>\n",
       "      <td>-6.802430</td>\n",
       "    </tr>\n",
       "    <tr>\n",
       "      <th>26</th>\n",
       "      <td>0.045415</td>\n",
       "      <td>9.695560</td>\n",
       "      <td>-6.673560</td>\n",
       "    </tr>\n",
       "    <tr>\n",
       "      <th>27</th>\n",
       "      <td>0.045665</td>\n",
       "      <td>9.567976</td>\n",
       "      <td>-6.548122</td>\n",
       "    </tr>\n",
       "    <tr>\n",
       "      <th>28</th>\n",
       "      <td>0.045909</td>\n",
       "      <td>9.440347</td>\n",
       "      <td>-6.426072</td>\n",
       "    </tr>\n",
       "    <tr>\n",
       "      <th>29</th>\n",
       "      <td>0.046147</td>\n",
       "      <td>9.312672</td>\n",
       "      <td>-6.307367</td>\n",
       "    </tr>\n",
       "    <tr>\n",
       "      <th>...</th>\n",
       "      <td>...</td>\n",
       "      <td>...</td>\n",
       "      <td>...</td>\n",
       "    </tr>\n",
       "    <tr>\n",
       "      <th>70</th>\n",
       "      <td>0.052340</td>\n",
       "      <td>4.037164</td>\n",
       "      <td>-3.773775</td>\n",
       "    </tr>\n",
       "    <tr>\n",
       "      <th>71</th>\n",
       "      <td>0.052424</td>\n",
       "      <td>3.907453</td>\n",
       "      <td>-3.755439</td>\n",
       "    </tr>\n",
       "    <tr>\n",
       "      <th>72</th>\n",
       "      <td>0.052506</td>\n",
       "      <td>3.777690</td>\n",
       "      <td>-3.738525</td>\n",
       "    </tr>\n",
       "    <tr>\n",
       "      <th>73</th>\n",
       "      <td>0.052586</td>\n",
       "      <td>3.647875</td>\n",
       "      <td>-3.722988</td>\n",
       "    </tr>\n",
       "    <tr>\n",
       "      <th>74</th>\n",
       "      <td>0.052664</td>\n",
       "      <td>3.518008</td>\n",
       "      <td>-3.708783</td>\n",
       "    </tr>\n",
       "    <tr>\n",
       "      <th>75</th>\n",
       "      <td>0.052739</td>\n",
       "      <td>3.388089</td>\n",
       "      <td>-3.695863</td>\n",
       "    </tr>\n",
       "    <tr>\n",
       "      <th>76</th>\n",
       "      <td>0.052813</td>\n",
       "      <td>3.258118</td>\n",
       "      <td>-3.684183</td>\n",
       "    </tr>\n",
       "    <tr>\n",
       "      <th>77</th>\n",
       "      <td>0.052885</td>\n",
       "      <td>3.128095</td>\n",
       "      <td>-3.673697</td>\n",
       "    </tr>\n",
       "    <tr>\n",
       "      <th>78</th>\n",
       "      <td>0.052956</td>\n",
       "      <td>2.998019</td>\n",
       "      <td>-3.664360</td>\n",
       "    </tr>\n",
       "    <tr>\n",
       "      <th>79</th>\n",
       "      <td>0.053024</td>\n",
       "      <td>2.867890</td>\n",
       "      <td>-3.656125</td>\n",
       "    </tr>\n",
       "    <tr>\n",
       "      <th>80</th>\n",
       "      <td>0.053092</td>\n",
       "      <td>2.737708</td>\n",
       "      <td>-3.648947</td>\n",
       "    </tr>\n",
       "    <tr>\n",
       "      <th>81</th>\n",
       "      <td>0.053157</td>\n",
       "      <td>2.607474</td>\n",
       "      <td>-3.642779</td>\n",
       "    </tr>\n",
       "    <tr>\n",
       "      <th>82</th>\n",
       "      <td>0.053221</td>\n",
       "      <td>2.477186</td>\n",
       "      <td>-3.637575</td>\n",
       "    </tr>\n",
       "    <tr>\n",
       "      <th>83</th>\n",
       "      <td>0.053284</td>\n",
       "      <td>2.346845</td>\n",
       "      <td>-3.633291</td>\n",
       "    </tr>\n",
       "    <tr>\n",
       "      <th>84</th>\n",
       "      <td>0.053345</td>\n",
       "      <td>2.216451</td>\n",
       "      <td>-3.629878</td>\n",
       "    </tr>\n",
       "    <tr>\n",
       "      <th>85</th>\n",
       "      <td>0.053405</td>\n",
       "      <td>2.086003</td>\n",
       "      <td>-3.627293</td>\n",
       "    </tr>\n",
       "    <tr>\n",
       "      <th>86</th>\n",
       "      <td>0.053464</td>\n",
       "      <td>1.955501</td>\n",
       "      <td>-3.625487</td>\n",
       "    </tr>\n",
       "    <tr>\n",
       "      <th>87</th>\n",
       "      <td>0.053522</td>\n",
       "      <td>1.824945</td>\n",
       "      <td>-3.624415</td>\n",
       "    </tr>\n",
       "    <tr>\n",
       "      <th>88</th>\n",
       "      <td>0.053578</td>\n",
       "      <td>1.694336</td>\n",
       "      <td>-3.624030</td>\n",
       "    </tr>\n",
       "    <tr>\n",
       "      <th>89</th>\n",
       "      <td>0.053634</td>\n",
       "      <td>1.563672</td>\n",
       "      <td>-3.624287</td>\n",
       "    </tr>\n",
       "    <tr>\n",
       "      <th>90</th>\n",
       "      <td>0.053689</td>\n",
       "      <td>1.432954</td>\n",
       "      <td>-3.625139</td>\n",
       "    </tr>\n",
       "    <tr>\n",
       "      <th>91</th>\n",
       "      <td>0.053743</td>\n",
       "      <td>1.302181</td>\n",
       "      <td>-3.626540</td>\n",
       "    </tr>\n",
       "    <tr>\n",
       "      <th>92</th>\n",
       "      <td>0.053796</td>\n",
       "      <td>1.171354</td>\n",
       "      <td>-3.628442</td>\n",
       "    </tr>\n",
       "    <tr>\n",
       "      <th>93</th>\n",
       "      <td>0.053849</td>\n",
       "      <td>1.040472</td>\n",
       "      <td>-3.630800</td>\n",
       "    </tr>\n",
       "    <tr>\n",
       "      <th>94</th>\n",
       "      <td>0.053901</td>\n",
       "      <td>0.909535</td>\n",
       "      <td>-3.633567</td>\n",
       "    </tr>\n",
       "    <tr>\n",
       "      <th>95</th>\n",
       "      <td>0.053952</td>\n",
       "      <td>0.778543</td>\n",
       "      <td>-3.636696</td>\n",
       "    </tr>\n",
       "    <tr>\n",
       "      <th>96</th>\n",
       "      <td>0.054003</td>\n",
       "      <td>0.647495</td>\n",
       "      <td>-3.640141</td>\n",
       "    </tr>\n",
       "    <tr>\n",
       "      <th>97</th>\n",
       "      <td>0.054054</td>\n",
       "      <td>0.516393</td>\n",
       "      <td>-3.643855</td>\n",
       "    </tr>\n",
       "    <tr>\n",
       "      <th>98</th>\n",
       "      <td>0.054104</td>\n",
       "      <td>0.385234</td>\n",
       "      <td>-3.647791</td>\n",
       "    </tr>\n",
       "    <tr>\n",
       "      <th>99</th>\n",
       "      <td>0.054154</td>\n",
       "      <td>0.254020</td>\n",
       "      <td>-3.651902</td>\n",
       "    </tr>\n",
       "  </tbody>\n",
       "</table>\n",
       "<p>100 rows × 3 columns</p>\n",
       "</div>"
      ],
      "text/plain": [
       "           X          Y          Z\n",
       "0   0.036879  12.997339 -11.267194\n",
       "1   0.037288  12.870880 -11.038369\n",
       "2   0.037690  12.744380 -10.814061\n",
       "3   0.038085  12.617839 -10.594228\n",
       "4   0.038473  12.491255 -10.378826\n",
       "5   0.038855  12.364630 -10.167812\n",
       "6   0.039229  12.237963  -9.961143\n",
       "7   0.039597  12.111253  -9.758777\n",
       "8   0.039959  11.984501  -9.560669\n",
       "9   0.040314  11.857707  -9.366777\n",
       "10  0.040662  11.730869  -9.177057\n",
       "11  0.041004  11.603990  -8.991466\n",
       "12  0.041340  11.477067  -8.809960\n",
       "13  0.041669  11.350101  -8.632498\n",
       "14  0.041993  11.223092  -8.459034\n",
       "15  0.042310  11.096039  -8.289526\n",
       "16  0.042621  10.968943  -8.123930\n",
       "17  0.042926  10.841804  -7.962202\n",
       "18  0.043226  10.714620  -7.804300\n",
       "19  0.043519  10.587393  -7.650180\n",
       "20  0.043807  10.460122  -7.499797\n",
       "21  0.044089  10.332806  -7.353109\n",
       "22  0.044365  10.205446  -7.210073\n",
       "23  0.044636  10.078042  -7.070643\n",
       "24  0.044901   9.950593  -6.934777\n",
       "25  0.045161   9.823099  -6.802430\n",
       "26  0.045415   9.695560  -6.673560\n",
       "27  0.045665   9.567976  -6.548122\n",
       "28  0.045909   9.440347  -6.426072\n",
       "29  0.046147   9.312672  -6.307367\n",
       "..       ...        ...        ...\n",
       "70  0.052340   4.037164  -3.773775\n",
       "71  0.052424   3.907453  -3.755439\n",
       "72  0.052506   3.777690  -3.738525\n",
       "73  0.052586   3.647875  -3.722988\n",
       "74  0.052664   3.518008  -3.708783\n",
       "75  0.052739   3.388089  -3.695863\n",
       "76  0.052813   3.258118  -3.684183\n",
       "77  0.052885   3.128095  -3.673697\n",
       "78  0.052956   2.998019  -3.664360\n",
       "79  0.053024   2.867890  -3.656125\n",
       "80  0.053092   2.737708  -3.648947\n",
       "81  0.053157   2.607474  -3.642779\n",
       "82  0.053221   2.477186  -3.637575\n",
       "83  0.053284   2.346845  -3.633291\n",
       "84  0.053345   2.216451  -3.629878\n",
       "85  0.053405   2.086003  -3.627293\n",
       "86  0.053464   1.955501  -3.625487\n",
       "87  0.053522   1.824945  -3.624415\n",
       "88  0.053578   1.694336  -3.624030\n",
       "89  0.053634   1.563672  -3.624287\n",
       "90  0.053689   1.432954  -3.625139\n",
       "91  0.053743   1.302181  -3.626540\n",
       "92  0.053796   1.171354  -3.628442\n",
       "93  0.053849   1.040472  -3.630800\n",
       "94  0.053901   0.909535  -3.633567\n",
       "95  0.053952   0.778543  -3.636696\n",
       "96  0.054003   0.647495  -3.640141\n",
       "97  0.054054   0.516393  -3.643855\n",
       "98  0.054104   0.385234  -3.647791\n",
       "99  0.054154   0.254020  -3.651902\n",
       "\n",
       "[100 rows x 3 columns]"
      ]
     },
     "execution_count": 37,
     "metadata": {},
     "output_type": "execute_result"
    }
   ],
   "source": [
    "proj_right_df"
   ]
  },
  {
   "cell_type": "code",
   "execution_count": null,
   "metadata": {
    "collapsed": true
   },
   "outputs": [],
   "source": []
  },
  {
   "cell_type": "markdown",
   "metadata": {},
   "source": [
    "# Find parameters"
   ]
  },
  {
   "cell_type": "markdown",
   "metadata": {},
   "source": [
    "    - Tip radius \n",
    "        Projection dans le sens de la longueur et ... ??\n",
    "    - Blade twist \n",
    "        Project on planes as in projection\n",
    "        Compute difference of angle between main directions of projections (PCA possible)"
   ]
  },
  {
   "cell_type": "markdown",
   "metadata": {
    "collapsed": true
   },
   "source": [
    "### Hub radius"
   ]
  },
  {
   "cell_type": "code",
   "execution_count": null,
   "metadata": {
    "collapsed": true
   },
   "outputs": [],
   "source": [
    "hub_points = get_hub_points(propeller_coords, dmiddle, vect_length)\n",
    "\n",
    "hub_outer_radius, hub_inner_radius = get_hub_radius(hub_points, middle_point, vect_side)\n",
    "\n",
    "hub_radius = hub_outer_radius[2] - middle_point[2]  #from center to exterior radius"
   ]
  },
  {
   "cell_type": "code",
   "execution_count": null,
   "metadata": {
    "collapsed": true
   },
   "outputs": [],
   "source": [
    "plot_hub(propeller_coords, hub_points, hub_outer_radius, hub_inner_radius)"
   ]
  },
  {
   "cell_type": "markdown",
   "metadata": {},
   "source": [
    "### Chord length"
   ]
  },
  {
   "cell_type": "code",
   "execution_count": null,
   "metadata": {
    "collapsed": true
   },
   "outputs": [],
   "source": [
    "chord_length = np.linalg.norm(highest_point - middle_point) - hub_radius\n",
    "chord_length"
   ]
  },
  {
   "cell_type": "markdown",
   "metadata": {},
   "source": [
    "### Blade twist"
   ]
  },
  {
   "cell_type": "code",
   "execution_count": null,
   "metadata": {
    "collapsed": true
   },
   "outputs": [],
   "source": []
  },
  {
   "cell_type": "markdown",
   "metadata": {
    "collapsed": true
   },
   "source": [
    "### Tip radius"
   ]
  },
  {
   "cell_type": "code",
   "execution_count": null,
   "metadata": {
    "collapsed": true
   },
   "outputs": [],
   "source": []
  },
  {
   "cell_type": "code",
   "execution_count": null,
   "metadata": {
    "collapsed": true
   },
   "outputs": [],
   "source": []
  },
  {
   "cell_type": "code",
   "execution_count": null,
   "metadata": {
    "collapsed": true
   },
   "outputs": [],
   "source": []
  }
 ],
 "metadata": {
  "kernelspec": {
   "display_name": "Python 3",
   "language": "python",
   "name": "python3"
  },
  "language_info": {
   "codemirror_mode": {
    "name": "ipython",
    "version": 3
   },
   "file_extension": ".py",
   "mimetype": "text/x-python",
   "name": "python",
   "nbconvert_exporter": "python",
   "pygments_lexer": "ipython3",
   "version": "3.6.5"
  }
 },
 "nbformat": 4,
 "nbformat_minor": 2
}
