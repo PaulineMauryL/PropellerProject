{
 "cells": [
  {
   "cell_type": "code",
   "execution_count": 1,
   "metadata": {
    "collapsed": true
   },
   "outputs": [],
   "source": [
    "#Pretty Display of Variables\n",
    "from IPython.core.interactiveshell import InteractiveShell\n",
    "InteractiveShell.ast_node_interactivity = \"all\""
   ]
  },
  {
   "cell_type": "code",
   "execution_count": 2,
   "metadata": {
    "collapsed": true
   },
   "outputs": [],
   "source": [
    "#%autoreload"
   ]
  },
  {
   "cell_type": "markdown",
   "metadata": {},
   "source": [
    "# Import libraries"
   ]
  },
  {
   "cell_type": "code",
   "execution_count": 1,
   "metadata": {
    "collapsed": true
   },
   "outputs": [],
   "source": [
    "from plot_projections import plot_all_projections, plot_final_projections, plot_point_for_couple, plot_projection_up_down, plot_border\n",
    "from prop_info import extreme_points, vect_blade, d_blade, center_prop\n",
    "from get_segments import blade_alone, get_segments_points, get_planes\n",
    "from major_axis import get_major_axis\n",
    "#from projections import couple_all_planes, project_all_couples, projections_by_side, project_couple\n",
    "from new_projections import assign_points, get_all_points_for_projections, interpolations, find_separation_plane\n",
    "from parameters import get_hub_points, get_hub_radius\n",
    "from plot_param import plot_hub\n",
    "from plot_prop import plot_pointcloud, plot_direction, plot_segments\n",
    "from myMathFunction import least_squares\n",
    "\n",
    "import pandas as pd\n",
    "import numpy as np"
   ]
  },
  {
   "cell_type": "code",
   "execution_count": 2,
   "metadata": {
    "collapsed": true
   },
   "outputs": [],
   "source": [
    "import pandas as pd\n",
    "import numpy as np"
   ]
  },
  {
   "cell_type": "markdown",
   "metadata": {},
   "source": [
    "## Pre-processing"
   ]
  },
  {
   "cell_type": "code",
   "execution_count": 3,
   "metadata": {},
   "outputs": [
    {
     "data": {
      "text/plain": [
       "(151986, 3)"
      ]
     },
     "execution_count": 3,
     "metadata": {},
     "output_type": "execute_result"
    }
   ],
   "source": [
    "propeller_coords = pd.read_csv('aerostar_data.csv')\n",
    "propeller_coords.shape"
   ]
  },
  {
   "cell_type": "code",
   "execution_count": 4,
   "metadata": {
    "collapsed": true
   },
   "outputs": [],
   "source": [
    "propeller_coords = propeller_coords.drop_duplicates(subset=None, keep='first', inplace=False)\n",
    "propeller_coords = propeller_coords.reset_index(drop=True)"
   ]
  },
  {
   "cell_type": "code",
   "execution_count": 5,
   "metadata": {
    "collapsed": true
   },
   "outputs": [],
   "source": [
    "max_point, min_point, middle_point, highest_point, lowest_point = extreme_points(propeller_coords)\n",
    "\n",
    "vect_length = vect_blade(max_point, min_point) \n",
    "\n",
    "dmiddle, dhighest, dlowest = d_blade(vect_length, middle_point, highest_point, lowest_point)\n",
    "\n",
    "upper_blade, lower_blade = blade_alone(propeller_coords, vect_length, dmiddle)\n",
    "\n",
    "vect_out, vect_side, hub_inner_radius = get_major_axis(propeller_coords, middle_point, vect_length)"
   ]
  },
  {
   "cell_type": "markdown",
   "metadata": {},
   "source": [
    "## Projections"
   ]
  },
  {
   "cell_type": "code",
   "execution_count": 6,
   "metadata": {
    "collapsed": true
   },
   "outputs": [],
   "source": [
    "nb_seg = 3\n",
    "resolution = 3\n",
    "\n",
    "planes = get_planes(upper_blade, dmiddle, dhighest, vect_length, nb_seg)\n",
    "segments = get_segments_points(upper_blade, planes, nb_seg)\n",
    "#plot_segments(segments)\n",
    "\n",
    "up, down = get_all_points_for_projections(planes, segments, nb_seg, resolution)"
   ]
  },
  {
   "cell_type": "code",
   "execution_count": null,
   "metadata": {
    "collapsed": true
   },
   "outputs": [],
   "source": [
    "up1 = up[0]\n",
    "dn1 = down[0]\n",
    "print()"
   ]
  },
  {
   "cell_type": "code",
   "execution_count": 14,
   "metadata": {},
   "outputs": [],
   "source": [
    "# 1. Find border points\n",
    "up_right_border, up_left_border, _, _, _ = extreme_points(up1)\n",
    "dn_right_border, dn_left_border, _, _, _ = extreme_points(dn1)\n",
    "#print(\"up_right {}\\n\".format(up_right))"
   ]
  },
  {
   "cell_type": "code",
   "execution_count": 15,
   "metadata": {},
   "outputs": [],
   "source": [
    "# 2. Find separating plane\n",
    "C_up = find_separation_plane(up1.values)\n",
    "C_dn = find_separation_plane(dn1.values)\n",
    "#print(\"C_up {}\\n\".format(C_up))"
   ]
  },
  {
   "cell_type": "code",
   "execution_count": 18,
   "metadata": {
    "collapsed": true
   },
   "outputs": [],
   "source": [
    "def assign_points(C_up, up):\n",
    "    right = []\n",
    "    left = []\n",
    "    \n",
    "    C = C_up[0:4]\n",
    "\n",
    "    for index, point in up.iterrows():\n",
    "        point_mult = np.append(point, 1)\n",
    "        if(point_mult @ C <= 0):\n",
    "            right.append(index)\n",
    "        else:\n",
    "            left.append(index)\n",
    "\n",
    "    right_points = up.loc[right]\n",
    "    left_points = up.loc[left]\n",
    "\n",
    "    return right_points, left_points"
   ]
  },
  {
   "cell_type": "code",
   "execution_count": 19,
   "metadata": {},
   "outputs": [
    {
     "name": "stdout",
     "output_type": "stream",
     "text": [
      "right_points_up_shape (322, 3)\n",
      "\n"
     ]
    }
   ],
   "source": [
    "# 3. Assign point to side\n",
    "right_points_up, left_points_up = assign_points(C_up, up1)\n",
    "right_points_dn, left_points_dn = assign_points(C_dn, dn1)\n",
    "print(\"right_points_up_shape {}\\n\".format(right_points_up.shape))"
   ]
  },
  {
   "cell_type": "markdown",
   "metadata": {},
   "source": [
    "## Find parameters"
   ]
  },
  {
   "cell_type": "markdown",
   "metadata": {},
   "source": [
    "    - Tip radius \n",
    "        Projection dans le sens de la longueur et ... ??\n",
    "    - Blade twist \n",
    "        Project on planes as in projection\n",
    "        Compute difference of angle between main directions of projections (PCA possible)"
   ]
  },
  {
   "cell_type": "markdown",
   "metadata": {
    "collapsed": true
   },
   "source": [
    "### Hub radius"
   ]
  },
  {
   "cell_type": "code",
   "execution_count": 31,
   "metadata": {
    "collapsed": true
   },
   "outputs": [],
   "source": [
    "hub_points = get_hub_points(propeller_coords, dmiddle, vect_length)\n",
    "\n",
    "hub_outer_radius, hub_inner_radius = get_hub_radius(hub_points, middle_point, vect_side)\n",
    "\n",
    "hub_radius = hub_outer_radius[2] - middle_point[2]  #from center to exterior radius"
   ]
  },
  {
   "cell_type": "code",
   "execution_count": 45,
   "metadata": {},
   "outputs": [
    {
     "data": {
      "image/png": "[encoded data removed]",
      "text/plain": [
       "<matplotlib.figure.Figure at 0xa188978>"
      ]
     },
     "metadata": {},
     "output_type": "display_data"
    }
   ],
   "source": [
    "plot_hub(propeller_coords, hub_points, hub_outer_radius, hub_inner_radius)"
   ]
  },
  {
   "cell_type": "markdown",
   "metadata": {},
   "source": [
    "### Chord length"
   ]
  },
  {
   "cell_type": "code",
   "execution_count": 60,
   "metadata": {},
   "outputs": [
    {
     "data": {
      "text/plain": [
       "56.333310137030246"
      ]
     },
     "execution_count": 60,
     "metadata": {},
     "output_type": "execute_result"
    }
   ],
   "source": [
    "chord_length = np.linalg.norm(highest_point - middle_point) - hub_radius\n",
    "chord_length"
   ]
  },
  {
   "cell_type": "markdown",
   "metadata": {},
   "source": [
    "### Blade twist"
   ]
  },
  {
   "cell_type": "code",
   "execution_count": null,
   "metadata": {
    "collapsed": true
   },
   "outputs": [],
   "source": []
  },
  {
   "cell_type": "code",
   "execution_count": null,
   "metadata": {
    "collapsed": true
   },
   "outputs": [],
   "source": []
  }
 ],
 "metadata": {
  "kernelspec": {
   "display_name": "Python 3",
   "language": "python",
   "name": "python3"
  },
  "language_info": {
   "codemirror_mode": {
    "name": "ipython",
    "version": 3
   },
   "file_extension": ".py",
   "mimetype": "text/x-python",
   "name": "python",
   "nbconvert_exporter": "python",
   "pygments_lexer": "ipython3",
   "version": "3.6.5"
  }
 },
 "nbformat": 4,
 "nbformat_minor": 2
}
