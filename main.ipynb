{
 "cells": [
  {
   "cell_type": "markdown",
   "metadata": {},
   "source": [
    "# Import libraries"
   ]
  },
  {
   "cell_type": "code",
   "execution_count": 1,
   "metadata": {},
   "outputs": [],
   "source": [
    "#from plot_prop import plot_direction, plot_pointcloud, plot_segments, plot_projection, plot_all_projections\n",
    "from prop_info import extreme_points, vect_blade, d_blade\n",
    "from get_segments import blade_alone, get_segments_points, get_planes\n",
    "from major_axis import get_major_axis\n",
    "from projections import all_projections, couple_all_planes\n",
    "from myMathFunction import distance_point_plane\n",
    "import pandas as pd\n",
    "import numpy as np"
   ]
  },
  {
   "cell_type": "markdown",
   "metadata": {},
   "source": [
    "## Pre-processing"
   ]
  },
  {
   "cell_type": "code",
   "execution_count": 2,
   "metadata": {},
   "outputs": [
    {
     "name": "stderr",
     "output_type": "stream",
     "text": [
      "C:\\Users\\Pauli\\Desktop\\PropellerProject\\get_segments.py:48: FutureWarning: Method .as_matrix will be removed in a future version. Use .values instead.\n",
      "  segments[\"points\"].append(blade.loc[index_segment].copy().as_matrix())\n"
     ]
    }
   ],
   "source": [
    "propeller_coords = pd.read_csv('propeller_data.csv')\n",
    "\n",
    "max_point, min_point, middle_point, highest_point, lowest_point = extreme_points(propeller_coords)\n",
    "\n",
    "vect_length = vect_blade(max_point, min_point) \n",
    "\n",
    "dmiddle, dhighest, dlowest = d_blade(vect_length, middle_point, highest_point, lowest_point)\n",
    "\n",
    "upper_blade, lower_blade = blade_alone(propeller_coords, vect_length, middle_point, dmiddle)\n",
    "\n",
    "vect_out, vect_side = get_major_axis(propeller_coords, middle_point, vect_length)"
   ]
  },
  {
   "cell_type": "markdown",
   "metadata": {},
   "source": [
    "## Projections"
   ]
  },
  {
   "cell_type": "code",
   "execution_count": 4,
   "metadata": {
    "scrolled": true
   },
   "outputs": [
    {
     "name": "stderr",
     "output_type": "stream",
     "text": [
      "C:\\Users\\Pauli\\Desktop\\PropellerProject\\get_segments.py:48: FutureWarning: Method .as_matrix will be removed in a future version. Use .values instead.\n",
      "  segments[\"points\"].append(blade.loc[index_segment].copy().as_matrix())\n"
     ]
    }
   ],
   "source": [
    "nb_seg = 5\n",
    "nb_point = 1000\n",
    "\n",
    "planes = get_planes(upper_blade, dmiddle, dhighest, vect_length, nb_seg)\n",
    "\n",
    "segments = get_segments_points(upper_blade, planes, nb_seg)\n",
    "\n",
    "\n",
    "proj_up, proj_down = all_projections(nb_seg, planes, segments, nb_point)\n",
    "\n",
    "couple = couple_all_planes(proj_down, proj_up)"
   ]
  },
  {
   "cell_type": "code",
   "execution_count": null,
   "metadata": {},
   "outputs": [],
   "source": [
    "def project_couples(couple, planes):\n",
    "    return projections"
   ]
  },
  {
   "cell_type": "code",
   "execution_count": null,
   "metadata": {},
   "outputs": [],
   "source": []
  }
 ],
 "metadata": {
  "kernelspec": {
   "display_name": "Python 3",
   "language": "python",
   "name": "python3"
  },
  "language_info": {
   "codemirror_mode": {
    "name": "ipython",
    "version": 3
   },
   "file_extension": ".py",
   "mimetype": "text/x-python",
   "name": "python",
   "nbconvert_exporter": "python",
   "pygments_lexer": "ipython3",
   "version": "3.6.5"
  }
 },
 "nbformat": 4,
 "nbformat_minor": 2
}
