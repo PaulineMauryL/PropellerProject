{
 "cells": [
  {
   "cell_type": "markdown",
   "metadata": {},
   "source": [
    "# Tests"
   ]
  },
  {
   "cell_type": "code",
   "execution_count": 75,
   "metadata": {},
   "outputs": [
    {
     "ename": "ImportError",
     "evalue": "cannot import name 'all_projections'",
     "output_type": "error",
     "traceback": [
      "\u001b[1;31m---------------------------------------------------------------------------\u001b[0m",
      "\u001b[1;31mImportError\u001b[0m                               Traceback (most recent call last)",
      "\u001b[1;32m<ipython-input-75-658b03d0afca>\u001b[0m in \u001b[0;36m<module>\u001b[1;34m()\u001b[0m\n\u001b[0;32m      3\u001b[0m \u001b[1;32mfrom\u001b[0m \u001b[0mget_segments\u001b[0m \u001b[1;32mimport\u001b[0m \u001b[0mblade_alone\u001b[0m\u001b[1;33m,\u001b[0m \u001b[0mget_segments_points\u001b[0m\u001b[1;33m,\u001b[0m \u001b[0mget_planes\u001b[0m\u001b[1;33m\u001b[0m\u001b[0m\n\u001b[0;32m      4\u001b[0m \u001b[1;32mfrom\u001b[0m \u001b[0mmajor_axis\u001b[0m \u001b[1;32mimport\u001b[0m \u001b[0mget_major_axis\u001b[0m\u001b[1;33m\u001b[0m\u001b[0m\n\u001b[1;32m----> 5\u001b[1;33m \u001b[1;32mfrom\u001b[0m \u001b[0mprojections\u001b[0m \u001b[1;32mimport\u001b[0m \u001b[0mall_projections\u001b[0m\u001b[1;33m\u001b[0m\u001b[0m\n\u001b[0m\u001b[0;32m      6\u001b[0m \u001b[1;32mfrom\u001b[0m \u001b[0mmyMathFunction\u001b[0m \u001b[1;32mimport\u001b[0m \u001b[0mdistance_point_plane\u001b[0m\u001b[1;33m\u001b[0m\u001b[0m\n\u001b[0;32m      7\u001b[0m \u001b[1;32mimport\u001b[0m \u001b[0mpandas\u001b[0m \u001b[1;32mas\u001b[0m \u001b[0mpd\u001b[0m\u001b[1;33m\u001b[0m\u001b[0m\n",
      "\u001b[1;31mImportError\u001b[0m: cannot import name 'all_projections'"
     ]
    }
   ],
   "source": [
    "#from plot_prop import plot_direction, plot_pointcloud, plot_segments, plot_projection, plot_all_projections\n",
    "from prop_info import extreme_points, vect_blade, d_blade\n",
    "from get_segments import blade_alone, get_segments_points, get_planes\n",
    "from major_axis import get_major_axis\n",
    "from projections import all_projections\n",
    "from myMathFunction import distance_point_plane\n",
    "import pandas as pd\n",
    "import numpy as np"
   ]
  },
  {
   "cell_type": "code",
   "execution_count": 71,
   "metadata": {},
   "outputs": [
    {
     "name": "stderr",
     "output_type": "stream",
     "text": [
      "C:\\Users\\Pauli\\Desktop\\PropellerProject\\get_segments.py:48: FutureWarning: Method .as_matrix will be removed in a future version. Use .values instead.\n",
      "  segments[\"points\"].append(blade.loc[index_segment].copy().as_matrix())\n"
     ]
    }
   ],
   "source": [
    "propeller_coords = pd.read_csv('propeller_data.csv')\n",
    "\n",
    "max_point, min_point, middle_point, highest_point, lowest_point = extreme_points(propeller_coords)\n",
    "\n",
    "vect_length = vect_blade(max_point, min_point) \n",
    "\n",
    "dmiddle, dhighest, dlowest = d_blade(vect_length, middle_point, highest_point, lowest_point)\n",
    "\n",
    "upper_blade, lower_blade = blade_alone(propeller_coords, vect_length, middle_point, dmiddle)\n",
    "\n",
    "vect_out, vect_side = get_major_axis(propeller_coords, middle_point, vect_length)\n",
    "\n",
    "nb_seg = 5\n",
    "planes = get_planes(upper_blade, dmiddle, dhighest, vect_length, nb_seg)\n",
    "\n",
    "segments = get_segments_points(upper_blade, planes, nb_seg)"
   ]
  },
  {
   "cell_type": "code",
   "execution_count": 72,
   "metadata": {},
   "outputs": [],
   "source": [
    "from mpl_toolkits.mplot3d import Axes3D\n",
    "import matplotlib.pyplot as plt\n",
    "\n",
    "def plot_all_projections(proj_up, proj_down):\n",
    "    fig = plt.figure()\n",
    "    ax = fig.add_subplot(111, projection='3d')\n",
    "    for elem in proj_down:\n",
    "        ax.plot(proj_down[elem][\"X\"], proj_down[elem][\"Y\"], proj_down[elem][\"Z\"], 'co', markersize=3, alpha=0.2)\n",
    "    for elem in proj_up:\n",
    "        ax.plot(proj_down[elem][\"X\"], proj_down[elem][\"Y\"], proj_down[elem][\"Z\"], 'ro', markersize=3, alpha=0.2)\n",
    "    ax.set_xlabel('x_values', fontsize=15)\n",
    "    ax.set_ylabel('y_values', fontsize=15)\n",
    "    ax.set_zlabel('z_values', fontsize=15)\n",
    "    plt.title('Projections on plane', fontsize=20)\n",
    "    plt.show()"
   ]
  },
  {
   "cell_type": "code",
   "execution_count": 65,
   "metadata": {},
   "outputs": [],
   "source": [
    "plan = planes[1]\n",
    "segment_down = segments['points'][0]\n",
    "segment_up = segments['points'][1]\n",
    "nb_point = 500"
   ]
  },
  {
   "cell_type": "code",
   "execution_count": 66,
   "metadata": {},
   "outputs": [],
   "source": [
    "proj_down = {}\n",
    "proj_up = {}\n",
    "\n",
    "#Plane i is associated with segments i-1 and i\n",
    "for proj in range(1, nb_seg):\n",
    "    df_d, df_u = project_on_plane(planes[proj], segments['points'][proj-1], segments['points'][proj], nb_point)\n",
    "    proj_down[proj] = df_d\n",
    "    proj_up[proj] = df_u"
   ]
  },
  {
   "cell_type": "code",
   "execution_count": null,
   "metadata": {},
   "outputs": [],
   "source": []
  },
  {
   "cell_type": "code",
   "execution_count": 67,
   "metadata": {},
   "outputs": [],
   "source": [
    "def interpole_on_plane(plan, segment_down, segment_up, nb_point):\n",
    "    distance_down = []\n",
    "    distance_up = []\n",
    "    \n",
    "    # Get the distance of the upper and lower point to the plan\n",
    "    for point in segment_down:\n",
    "        distance_down.append(distance_point_plane(point, plan)) \n",
    "    for point in segment_up:\n",
    "        distance_up.append(distance_point_plane(point, plan)) \n",
    "    \n",
    "    # Get the 100 point closest to plane on each side\n",
    "    sort_idx_down = np.argsort(distance_down)\n",
    "    sort_idx_up   = np.argsort(distance_up)\n",
    "    \n",
    "    sort_idx_down = sort_idx_down[:nb_point]\n",
    "    sort_idx_up   = sort_idx_up[:nb_point]\n",
    "    \n",
    "    point_down = segment_down[sort_idx_down]\n",
    "    point_up   = segment_up[sort_idx_up]\n",
    "    \n",
    "    df_d = pd.DataFrame(point_down)\n",
    "    df_d.columns = ['X', 'Y','Z']\n",
    "    df_u = pd.DataFrame(point_up)\n",
    "    df_u.columns = ['X', 'Y','Z']\n",
    "    '''\n",
    "    # Project point on plan\n",
    "    pp_d = []\n",
    "    pp_u = []\n",
    "    for p in point_down:\n",
    "        pp_d.append(project_point(p, plan))\n",
    "    for p in point_up:\n",
    "        pp_u.append(project_point(p, plan))\n",
    "        \n",
    "    df_d = pd.DataFrame(pp_d)\n",
    "    df_d.columns = ['X', 'Y','Z']\n",
    "    df_u = pd.DataFrame(pp_u)\n",
    "    df_u.columns = ['X', 'Y','Z']\n",
    "    '''\n",
    "    return df_d, df_u"
   ]
  },
  {
   "cell_type": "code",
   "execution_count": 68,
   "metadata": {},
   "outputs": [
    {
     "ename": "NameError",
     "evalue": "name 'distance_point_plane' is not defined",
     "output_type": "error",
     "traceback": [
      "\u001b[1;31m---------------------------------------------------------------------------\u001b[0m",
      "\u001b[1;31mNameError\u001b[0m                                 Traceback (most recent call last)",
      "\u001b[1;32m<ipython-input-68-a41bcc927cc3>\u001b[0m in \u001b[0;36m<module>\u001b[1;34m()\u001b[0m\n\u001b[1;32m----> 1\u001b[1;33m \u001b[0mdf_d\u001b[0m\u001b[1;33m,\u001b[0m \u001b[0mdf_u\u001b[0m \u001b[1;33m=\u001b[0m \u001b[0minterpole_on_plane\u001b[0m\u001b[1;33m(\u001b[0m\u001b[0mplan\u001b[0m\u001b[1;33m,\u001b[0m \u001b[0msegment_down\u001b[0m\u001b[1;33m,\u001b[0m \u001b[0msegment_up\u001b[0m\u001b[1;33m,\u001b[0m \u001b[0mnb_point\u001b[0m\u001b[1;33m)\u001b[0m\u001b[1;33m\u001b[0m\u001b[0m\n\u001b[0m",
      "\u001b[1;32m<ipython-input-67-4550cb540d9d>\u001b[0m in \u001b[0;36minterpole_on_plane\u001b[1;34m(plan, segment_down, segment_up, nb_point)\u001b[0m\n\u001b[0;32m      5\u001b[0m     \u001b[1;31m# Get the distance of the upper and lower point to the plan\u001b[0m\u001b[1;33m\u001b[0m\u001b[1;33m\u001b[0m\u001b[0m\n\u001b[0;32m      6\u001b[0m     \u001b[1;32mfor\u001b[0m \u001b[0mpoint\u001b[0m \u001b[1;32min\u001b[0m \u001b[0msegment_down\u001b[0m\u001b[1;33m:\u001b[0m\u001b[1;33m\u001b[0m\u001b[0m\n\u001b[1;32m----> 7\u001b[1;33m         \u001b[0mdistance_down\u001b[0m\u001b[1;33m.\u001b[0m\u001b[0mappend\u001b[0m\u001b[1;33m(\u001b[0m\u001b[0mdistance_point_plane\u001b[0m\u001b[1;33m(\u001b[0m\u001b[0mpoint\u001b[0m\u001b[1;33m,\u001b[0m \u001b[0mplan\u001b[0m\u001b[1;33m)\u001b[0m\u001b[1;33m)\u001b[0m\u001b[1;33m\u001b[0m\u001b[0m\n\u001b[0m\u001b[0;32m      8\u001b[0m     \u001b[1;32mfor\u001b[0m \u001b[0mpoint\u001b[0m \u001b[1;32min\u001b[0m \u001b[0msegment_up\u001b[0m\u001b[1;33m:\u001b[0m\u001b[1;33m\u001b[0m\u001b[0m\n\u001b[0;32m      9\u001b[0m         \u001b[0mdistance_up\u001b[0m\u001b[1;33m.\u001b[0m\u001b[0mappend\u001b[0m\u001b[1;33m(\u001b[0m\u001b[0mdistance_point_plane\u001b[0m\u001b[1;33m(\u001b[0m\u001b[0mpoint\u001b[0m\u001b[1;33m,\u001b[0m \u001b[0mplan\u001b[0m\u001b[1;33m)\u001b[0m\u001b[1;33m)\u001b[0m\u001b[1;33m\u001b[0m\u001b[0m\n",
      "\u001b[1;31mNameError\u001b[0m: name 'distance_point_plane' is not defined"
     ]
    }
   ],
   "source": [
    "df_d, df_u = interpole_on_plane(plan, segment_down, segment_up, nb_point)"
   ]
  },
  {
   "cell_type": "code",
   "execution_count": null,
   "metadata": {},
   "outputs": [],
   "source": []
  }
 ],
 "metadata": {
  "kernelspec": {
   "display_name": "Python 3",
   "language": "python",
   "name": "python3"
  },
  "language_info": {
   "codemirror_mode": {
    "name": "ipython",
    "version": 3
   },
   "file_extension": ".py",
   "mimetype": "text/x-python",
   "name": "python",
   "nbconvert_exporter": "python",
   "pygments_lexer": "ipython3",
   "version": "3.6.5"
  }
 },
 "nbformat": 4,
 "nbformat_minor": 2
}
