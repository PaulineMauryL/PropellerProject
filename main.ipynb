{
 "cells": [
  {
   "cell_type": "code",
   "execution_count": 1,
   "metadata": {
    "collapsed": true
   },
   "outputs": [],
   "source": [
    "#Pretty Display of Variables\n",
    "\n",
    "from IPython.core.interactiveshell import InteractiveShell\n",
    "InteractiveShell.ast_node_interactivity = \"all\""
   ]
  },
  {
   "cell_type": "markdown",
   "metadata": {},
   "source": [
    "# Import libraries"
   ]
  },
  {
   "cell_type": "code",
   "execution_count": null,
   "metadata": {
    "collapsed": true
   },
   "outputs": [],
   "source": []
  },
  {
   "cell_type": "code",
   "execution_count": 47,
   "metadata": {},
   "outputs": [],
   "source": [
    "#from plot_prop import plot_direction, plot_pointcloud, plot_segments, plot_projection, plot_all_projections\n",
    "from prop_info import extreme_points, vect_blade, d_blade\n",
    "from get_segments import blade_alone, get_segments_points, get_planes\n",
    "from major_axis import get_major_axis\n",
    "\n",
    "from parameters import get_hub_points, find_hub_radius\n",
    "from plot_param import plot_hub\n",
    "#from projections import projections_by_side, couple_all_planes, project_all_couples, points_to_project\n",
    "#from plot_prop import plot_final_projections\n",
    "\n",
    "import pandas as pd\n",
    "import numpy as np"
   ]
  },
  {
   "cell_type": "markdown",
   "metadata": {},
   "source": [
    "## Pre-processing"
   ]
  },
  {
   "cell_type": "code",
   "execution_count": 5,
   "metadata": {
    "collapsed": true
   },
   "outputs": [],
   "source": [
    "propeller_coords = pd.read_csv('aerostar_data.csv')\n",
    "\n",
    "max_point, min_point, middle_point, highest_point, lowest_point = extreme_points(propeller_coords)\n",
    "\n",
    "vect_length = vect_blade(max_point, min_point) \n",
    "\n",
    "dmiddle, dhighest, dlowest = d_blade(vect_length, middle_point, highest_point, lowest_point)\n",
    "\n",
    "upper_blade, lower_blade = blade_alone(propeller_coords, vect_length, dmiddle)\n",
    "\n",
    "vect_out, vect_side, hub_inner_radius = get_major_axis(propeller_coords, middle_point, vect_length)"
   ]
  },
  {
   "cell_type": "markdown",
   "metadata": {},
   "source": [
    "## Projections"
   ]
  },
  {
   "cell_type": "raw",
   "metadata": {
    "scrolled": false
   },
   "source": [
    "nb_seg = 5\n",
    "planes = get_planes(upper_blade, dmiddle, dhighest, vect_length, nb_seg)\n",
    "\n",
    "segments = get_segments_points(upper_blade, planes, nb_seg)\n",
    "\n",
    "nb_point = 500\n",
    "proj_up, proj_down, idx_up, idx_down = projections_by_side(nb_seg, planes, segments, nb_point)\n",
    "\n",
    "couples = couple_all_planes(proj_down, proj_up, nb_seg)\n",
    "\n",
    "down, up = points_to_project(segments, idx_up, idx_down, couples, nb_seg)\n",
    "\n",
    "projections_df = project_all_couples(couples, planes, up, down)\n",
    "\n",
    "plot_final_projections(projections_df)"
   ]
  },
  {
   "cell_type": "markdown",
   "metadata": {},
   "source": [
    "## Find parameters"
   ]
  },
  {
   "cell_type": "markdown",
   "metadata": {},
   "source": [
    "    - Tip radius \n",
    "        Projection dans le sens de la longueur et ... ??\n",
    "    - Blade twist \n",
    "        Project on planes as in projection\n",
    "        Compute difference of angle between main directions of projections (PCA possible)"
   ]
  },
  {
   "cell_type": "markdown",
   "metadata": {
    "collapsed": true
   },
   "source": [
    "### Hub radius"
   ]
  },
  {
   "cell_type": "code",
   "execution_count": 57,
   "metadata": {},
   "outputs": [],
   "source": [
    "hub_points = get_hub_points(propeller_coords, dmiddle, vect_length)\n",
    "point_outer_radius, point_inner_radius = find_hub_radius(middle_point, hub_inner_radius, vect_side, hub_points)\n",
    "hub_radius = point_outer_radius - middle_point  #du centre à l'exterieur\n",
    "hub_radius_norm = np.linalg.norm(hub_radius)"
   ]
  },
  {
   "cell_type": "code",
   "execution_count": 59,
   "metadata": {},
   "outputs": [
    {
     "data": {
      "text/plain": [
       "7.1330189878270165"
      ]
     },
     "execution_count": 59,
     "metadata": {},
     "output_type": "execute_result"
    }
   ],
   "source": [
    "hub_radius_norm"
   ]
  },
  {
   "cell_type": "markdown",
   "metadata": {},
   "source": [
    "### Chord length"
   ]
  },
  {
   "cell_type": "code",
   "execution_count": 60,
   "metadata": {},
   "outputs": [
    {
     "data": {
      "text/plain": [
       "56.333310137030246"
      ]
     },
     "execution_count": 60,
     "metadata": {},
     "output_type": "execute_result"
    }
   ],
   "source": [
    "chord_length = np.linalg.norm(highest_point - middle_point) - hub_radius_norm\n",
    "chord_length"
   ]
  },
  {
   "cell_type": "markdown",
   "metadata": {},
   "source": [
    "### Blade twist"
   ]
  },
  {
   "cell_type": "code",
   "execution_count": null,
   "metadata": {
    "collapsed": true
   },
   "outputs": [],
   "source": []
  },
  {
   "cell_type": "code",
   "execution_count": null,
   "metadata": {
    "collapsed": true
   },
   "outputs": [],
   "source": []
  }
 ],
 "metadata": {
  "kernelspec": {
   "display_name": "Python 3",
   "language": "python",
   "name": "python3"
  },
  "language_info": {
   "codemirror_mode": {
    "name": "ipython",
    "version": 3
   },
   "file_extension": ".py",
   "mimetype": "text/x-python",
   "name": "python",
   "nbconvert_exporter": "python",
   "pygments_lexer": "ipython3",
   "version": "3.6.5"
  }
 },
 "nbformat": 4,
 "nbformat_minor": 2
}
