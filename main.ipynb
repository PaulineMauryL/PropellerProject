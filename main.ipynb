{
 "cells": [
  {
   "cell_type": "markdown",
   "metadata": {},
   "source": [
    "# Import libraries"
   ]
  },
  {
   "cell_type": "code",
   "execution_count": 7,
   "metadata": {
    "collapsed": true
   },
   "outputs": [],
   "source": [
    "#from plot_prop import plot_direction, plot_pointcloud, plot_segments, plot_projection, plot_all_projections\n",
    "from prop_info import extreme_points, vect_blade, d_blade\n",
    "from get_segments import blade_alone, get_segments_points, get_planes\n",
    "from major_axis import get_major_axis\n",
    "from projections import all_projections, couple_all_planes\n",
    "from myMathFunction import distance_point_plane\n",
    "import pandas as pd\n",
    "import numpy as np"
   ]
  },
  {
   "cell_type": "markdown",
   "metadata": {},
   "source": [
    "## Pre-processing"
   ]
  },
  {
   "cell_type": "code",
   "execution_count": 2,
   "metadata": {},
   "outputs": [],
   "source": [
    "propeller_coords = pd.read_csv('propeller_data.csv')\n",
    "\n",
    "max_point, min_point, middle_point, highest_point, lowest_point = extreme_points(propeller_coords)\n",
    "\n",
    "vect_length = vect_blade(max_point, min_point) \n",
    "\n",
    "dmiddle, dhighest, dlowest = d_blade(vect_length, middle_point, highest_point, lowest_point)\n",
    "\n",
    "upper_blade, lower_blade = blade_alone(propeller_coords, vect_length, dmiddle)\n",
    "\n",
    "vect_out, vect_side = get_major_axis(propeller_coords, middle_point, vect_length)"
   ]
  },
  {
   "cell_type": "markdown",
   "metadata": {},
   "source": [
    "## Projections"
   ]
  },
  {
   "cell_type": "code",
   "execution_count": 9,
   "metadata": {
    "scrolled": true
   },
   "outputs": [
    {
     "ename": "TypeError",
     "evalue": "couple_all_planes() takes 2 positional arguments but 3 were given",
     "output_type": "error",
     "traceback": [
      "\u001b[1;31m---------------------------------------------------------------------------\u001b[0m",
      "\u001b[1;31mTypeError\u001b[0m                                 Traceback (most recent call last)",
      "\u001b[1;32m<ipython-input-9-104b73923378>\u001b[0m in \u001b[0;36m<module>\u001b[1;34m()\u001b[0m\n\u001b[0;32m      8\u001b[0m \u001b[0mproj_up\u001b[0m\u001b[1;33m,\u001b[0m \u001b[0mproj_down\u001b[0m \u001b[1;33m=\u001b[0m \u001b[0mall_projections\u001b[0m\u001b[1;33m(\u001b[0m\u001b[0mnb_seg\u001b[0m\u001b[1;33m,\u001b[0m \u001b[0mplanes\u001b[0m\u001b[1;33m,\u001b[0m \u001b[0msegments\u001b[0m\u001b[1;33m,\u001b[0m \u001b[0mnb_point\u001b[0m\u001b[1;33m)\u001b[0m\u001b[1;33m\u001b[0m\u001b[0m\n\u001b[0;32m      9\u001b[0m \u001b[1;33m\u001b[0m\u001b[0m\n\u001b[1;32m---> 10\u001b[1;33m \u001b[0mcouple\u001b[0m \u001b[1;33m=\u001b[0m \u001b[0mcouple_all_planes\u001b[0m\u001b[1;33m(\u001b[0m\u001b[0mproj_down\u001b[0m\u001b[1;33m,\u001b[0m \u001b[0mproj_up\u001b[0m\u001b[1;33m,\u001b[0m \u001b[0mnb_seg\u001b[0m\u001b[1;33m)\u001b[0m\u001b[1;33m\u001b[0m\u001b[0m\n\u001b[0m",
      "\u001b[1;31mTypeError\u001b[0m: couple_all_planes() takes 2 positional arguments but 3 were given"
     ]
    }
   ],
   "source": [
    "nb_seg = 5\n",
    "nb_point = 1000\n",
    "\n",
    "planes = get_planes(upper_blade, dmiddle, dhighest, vect_length, nb_seg)\n",
    "\n",
    "segments = get_segments_points(upper_blade, planes, nb_seg)\n",
    "\n",
    "proj_up, proj_down = all_projections(nb_seg, planes, segments, nb_point)\n",
    "\n",
    "couple = couple_all_planes(proj_down, proj_up, nb_seg)"
   ]
  },
  {
   "cell_type": "code",
   "execution_count": null,
   "metadata": {
    "collapsed": true
   },
   "outputs": [],
   "source": [
    "len(couple[0])"
   ]
  },
  {
   "cell_type": "code",
   "execution_count": null,
   "metadata": {
    "collapsed": true
   },
   "outputs": [],
   "source": [
    "def project_couples(couple, planes):\n",
    "    return projections"
   ]
  },
  {
   "cell_type": "code",
   "execution_count": null,
   "metadata": {
    "collapsed": true
   },
   "outputs": [],
   "source": []
  }
 ],
 "metadata": {
  "kernelspec": {
   "display_name": "Python 3",
   "language": "python",
   "name": "python3"
  },
  "language_info": {
   "codemirror_mode": {
    "name": "ipython",
    "version": 3
   },
   "file_extension": ".py",
   "mimetype": "text/x-python",
   "name": "python",
   "nbconvert_exporter": "python",
   "pygments_lexer": "ipython3",
   "version": "3.6.5"
  }
 },
 "nbformat": 4,
 "nbformat_minor": 2
}
