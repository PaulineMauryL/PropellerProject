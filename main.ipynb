{
 "cells": [
  {
   "cell_type": "markdown",
   "metadata": {},
   "source": [
    "# Tests"
   ]
  },
  {
   "cell_type": "code",
   "execution_count": 141,
   "metadata": {},
   "outputs": [],
   "source": [
    "from plot_prop import plot_direction, plot_pointcloud, plot_segments\n",
    "from prop_info import extreme_points, vect_blade, d_blade\n",
    "from get_segments import blade_alone, get_segments_points, get_planes, projection\n",
    "from major_axis import get_major_axis\n",
    "import pandas as pd\n",
    "import numpy as np"
   ]
  },
  {
   "cell_type": "code",
   "execution_count": 2,
   "metadata": {},
   "outputs": [
    {
     "name": "stdout",
     "output_type": "stream",
     "text": [
      "[array([-2.12496445e-01, -3.76358998e-05,  9.77161839e-01, -1.13976884e+02]), array([-2.12496445e-01, -3.76358998e-05,  9.77161839e-01, -1.39102767e+02]), array([-2.12496445e-01, -3.76358998e-05,  9.77161839e-01, -1.64228650e+02]), array([-2.12496445e-01, -3.76358998e-05,  9.77161839e-01, -1.89354533e+02]), array([-2.12496445e-01, -3.76358998e-05,  9.77161839e-01, -2.14480416e+02]), array([-2.12496445e-01, -3.76358998e-05,  9.77161839e-01, -2.39606299e+02])]\n"
     ]
    },
    {
     "name": "stderr",
     "output_type": "stream",
     "text": [
      "C:\\Users\\Pauli\\Desktop\\PropellerProject\\get_segments.py:48: FutureWarning: Method .as_matrix will be removed in a future version. Use .values instead.\n",
      "  segments[\"points\"].append(blade.loc[index_segment].copy().as_matrix())\n"
     ]
    }
   ],
   "source": [
    "propeller_coords = pd.read_csv('propeller_data.csv')\n",
    "\n",
    "max_point, min_point, middle_point, highest_point, lowest_point = extreme_points(propeller_coords)\n",
    "\n",
    "vect_length = vect_blade(max_point, min_point) \n",
    "\n",
    "dmiddle, dhighest, dlowest = d_blade(vect_length, middle_point, highest_point, lowest_point)\n",
    "\n",
    "upper_blade, lower_blade = blade_alone(propeller_coords, vect_length, middle_point, dmiddle)\n",
    "\n",
    "vect_out, vect_side = get_major_axis(propeller_coords, middle_point, vect_length)\n",
    "\n",
    "\n",
    "#plot_direction(propeller_coords, vect_blade, vect_out, vect_side)\n",
    "#plot_pointcloud(lower_blade)\n",
    "#plot_eigenvectors(propeller_coords, vect_upper)\n",
    "\n",
    "nb_seg = 5"
   ]
  },
  {
   "cell_type": "code",
   "execution_count": 3,
   "metadata": {},
   "outputs": [
    {
     "name": "stdout",
     "output_type": "stream",
     "text": [
      "[array([-2.12496445e-01, -3.76358998e-05,  9.77161839e-01, -1.13976884e+02]), array([-2.12496445e-01, -3.76358998e-05,  9.77161839e-01, -1.39102767e+02]), array([-2.12496445e-01, -3.76358998e-05,  9.77161839e-01, -1.64228650e+02]), array([-2.12496445e-01, -3.76358998e-05,  9.77161839e-01, -1.89354533e+02]), array([-2.12496445e-01, -3.76358998e-05,  9.77161839e-01, -2.14480416e+02]), array([-2.12496445e-01, -3.76358998e-05,  9.77161839e-01, -2.39606299e+02])]\n"
     ]
    }
   ],
   "source": [
    "planes = get_planes(upper_blade, dmiddle, dhighest, vect_length, nb_seg)\n",
    "print(planes)"
   ]
  },
  {
   "cell_type": "code",
   "execution_count": 7,
   "metadata": {},
   "outputs": [
    {
     "data": {
      "text/plain": [
       "-113.97688416769978"
      ]
     },
     "execution_count": 7,
     "metadata": {},
     "output_type": "execute_result"
    }
   ],
   "source": [
    "planes[0][3]"
   ]
  },
  {
   "cell_type": "code",
   "execution_count": 9,
   "metadata": {},
   "outputs": [
    {
     "name": "stdout",
     "output_type": "stream",
     "text": [
      "{'points': [array([[ 29.68845558,   4.50000048, 126.31544495],\n",
      "       [ 30.23544693,   5.9000001 , 126.36328888],\n",
      "       [ 30.23544693,   4.50000048, 126.36328888],\n",
      "       ...,\n",
      "       [ 26.29621696,   4.50000048, 122.51869965],\n",
      "       [ 26.29621696,   0.        , 122.51869965],\n",
      "       [ 26.29621696,   4.50000048, 122.51869965]]), array([[ 35.41701508,  10.46157265, 171.03482056],\n",
      "       [ 35.64627838,  10.43367004, 171.03482056],\n",
      "       [ 35.78574753,  10.44304466, 167.12089539],\n",
      "       ...,\n",
      "       [ 23.35833359,   6.86495256, 171.03482056],\n",
      "       [ 20.32847595,   5.50870752, 171.03482056],\n",
      "       [ 23.35833359,   6.86495256, 171.03482056]]), array([[  7.23035622,   1.48444605, 186.72817993],\n",
      "       [  7.25157928,   1.49686444, 186.72817993],\n",
      "       [  9.20484447,   1.22805822, 178.87841797],\n",
      "       ...,\n",
      "       [ 22.67504883,   7.49413633, 194.56210327],\n",
      "       [ 19.20256805,   6.52870131, 194.56210327],\n",
      "       [ 22.67504883,   7.49413633, 194.56210327]]), array([[ 21.52224159,   5.53769827, 223.39117432],\n",
      "       [ 22.24742699,   5.99248266, 224.32962036],\n",
      "       [ 22.65632439,   5.96893883, 223.39117432],\n",
      "       ...,\n",
      "       [ 22.59222794,   6.2914567 , 223.39117432],\n",
      "       [ 22.50477219,   6.34409094, 223.39117432],\n",
      "       [ 22.59222794,   6.2914567 , 223.39117432]]), array([[  8.99073315,   3.92117548, 239.60983276],\n",
      "       [  8.99073315,   3.92117548, 239.60983276],\n",
      "       [ 11.63652515,   4.36055851, 239.60983276],\n",
      "       ...,\n",
      "       [ 11.71065235,   4.45398664, 239.60983276],\n",
      "       [ 11.71941662,   4.47454309, 239.60983276],\n",
      "       [ 11.71065235,   4.45398664, 239.60983276]])]}\n"
     ]
    }
   ],
   "source": [
    "print(segments)"
   ]
  },
  {
   "cell_type": "code",
   "execution_count": 8,
   "metadata": {},
   "outputs": [
    {
     "name": "stderr",
     "output_type": "stream",
     "text": [
      "C:\\Users\\Pauli\\Desktop\\PropellerProject\\get_segments.py:48: FutureWarning: Method .as_matrix will be removed in a future version. Use .values instead.\n",
      "  segments[\"points\"].append(blade.loc[index_segment].copy().as_matrix())\n"
     ]
    }
   ],
   "source": [
    "segments = get_segments_points(upper_blade, planes, nb_seg)"
   ]
  },
  {
   "cell_type": "code",
   "execution_count": 36,
   "metadata": {},
   "outputs": [
    {
     "name": "stdout",
     "output_type": "stream",
     "text": [
      "[[ 35.41701508  10.46157265 171.03482056]\n",
      " [ 35.64627838  10.43367004 171.03482056]\n",
      " [ 35.78574753  10.44304466 167.12089539]\n",
      " ...\n",
      " [ 23.35833359   6.86495256 171.03482056]\n",
      " [ 20.32847595   5.50870752 171.03482056]\n",
      " [ 23.35833359   6.86495256 171.03482056]]\n",
      "2534\n"
     ]
    }
   ],
   "source": [
    "segment_down = segments['points'][1]\n",
    "print(segment_down)\n",
    "print(len(segment_down))\n",
    "segment_up = segments['points'][2]"
   ]
  },
  {
   "cell_type": "code",
   "execution_count": 14,
   "metadata": {},
   "outputs": [
    {
     "name": "stdout",
     "output_type": "stream",
     "text": [
      "[-2.12496445e-01 -3.76358998e-05  9.77161839e-01 -1.64228650e+02]\n"
     ]
    }
   ],
   "source": [
    "plan = planes[2]\n",
    "print(plan)"
   ]
  },
  {
   "cell_type": "code",
   "execution_count": 136,
   "metadata": {},
   "outputs": [],
   "source": [
    "import math\n",
    "def distance_point_plane(point, plane):\n",
    "    return abs(point[0]*plane[0] + point[1]*plane[1] + point[2]*plane[2] + plane[3])\n",
    "\n",
    "def distance_p2p(x1, x2):\n",
    "    return math.sqrt( (x2[0] - x1[0])**2 + (x2[1] - x1[1])**2 + (x2[2] - x2[2])**2 )\n",
    "\n",
    "def project_point(point, plane):\n",
    "    t = - (point[0]*plane[0] + point[1]*plane[1] + point[2]*plane[2] + plane[3]) / (plane[0]**2 + plane[1]**2 + plane[2]**2)\n",
    "    x = point[0] + plane[0]*t\n",
    "    y = point[1] + plane[1]*t\n",
    "    z = point[2] + plane[2]*t\n",
    "    return [x, y, z]"
   ]
  },
  {
   "cell_type": "code",
   "execution_count": 173,
   "metadata": {},
   "outputs": [],
   "source": [
    "nb_point = 1000\n",
    "def project_on_plane(plan, segment_down, segment_up, nb_point):\n",
    "    distance_down = []\n",
    "    distance_up = []\n",
    "    \n",
    "    # Get the distance of the upper and lower point to the plan\n",
    "    for point in segment_down:\n",
    "        distance_down.append(distance_point_plane(point, plan)) \n",
    "    for point in segment_up:\n",
    "        distance_up.append(distance_point_plane(point, plan)) \n",
    "    \n",
    "    # Get the 100 point closest to plane on each side\n",
    "    sort_idx_down = np.argsort(distance_down)\n",
    "    sort_idx_up   = np.argsort(distance_up)\n",
    "    \n",
    "    sort_idx_down = sort_idx_down[:nb_point]\n",
    "    sort_idx_up   = sort_idx_up[:nb_point]\n",
    "    \n",
    "    point_down = segment_down[sort_idx_down]\n",
    "    point_up   = segment_up[sort_idx_up]\n",
    "    \n",
    "    # Project point on plan\n",
    "    pp_d = []\n",
    "    pp_u = []\n",
    "    for p in point_down:\n",
    "        pp_d.append(project_point(p, plan))\n",
    "    for p in point_up:\n",
    "        pp_u.append(project_point(p, plan))\n",
    "        \n",
    "    df_d = pd.DataFrame(pp_d)\n",
    "    df_d.columns = ['X', 'Y','Z']\n",
    "    df_u = pd.DataFrame(pp_u)\n",
    "    df_u.columns = ['X', 'Y','Z']\n",
    "    return df_d, df_u"
   ]
  },
  {
   "cell_type": "code",
   "execution_count": 174,
   "metadata": {},
   "outputs": [],
   "source": [
    "df_d, df_u = project_on_plane(plan, segment_down, segment_up, nb_point)"
   ]
  },
  {
   "cell_type": "code",
   "execution_count": 179,
   "metadata": {},
   "outputs": [],
   "source": [
    "import matplotlib.pyplot as plt\n",
    "from mpl_toolkits.mplot3d import Axes3D\n",
    "def plot_projection(df_u, df_d):\n",
    "    fig = plt.figure()\n",
    "    ax = fig.add_subplot(111, projection='3d')\n",
    "    ax.plot(df_d[\"X\"], df_d[\"Y\"], df_d[\"Z\"], 'co', markersize=3, alpha=0.2)\n",
    "    ax.plot(df_u[\"X\"], df_u[\"Y\"], df_u[\"Z\"], 'ro', markersize=3, alpha=0.2)\n",
    "    ax.set_xlabel('x_values', fontsize=15)\n",
    "    ax.set_ylabel('y_values', fontsize=15)\n",
    "    ax.set_zlabel('z_values', fontsize=15)\n",
    "    plt.title('Projection on plane', fontsize=20)\n",
    "    plt.show()"
   ]
  },
  {
   "cell_type": "code",
   "execution_count": 114,
   "metadata": {},
   "outputs": [],
   "source": []
  },
  {
   "cell_type": "code",
   "execution_count": null,
   "metadata": {},
   "outputs": [],
   "source": []
  },
  {
   "cell_type": "code",
   "execution_count": 84,
   "metadata": {},
   "outputs": [],
   "source": [
    "nb_point = 100\n",
    "def project_on_plane(plan, segment_down, segment_up):\n",
    "    distance_down = []\n",
    "    distance_up = []\n",
    "    \n",
    "    # Get the distance of the upper and lower point to the plan\n",
    "    for point in segment_down:\n",
    "        distance_down.append(distance_point_plane(point, plan)) \n",
    "        \n",
    "    for point in segment_up:\n",
    "        distance_up.append(distance_point_plane(point, plan)) \n",
    "    \n",
    "    # Get the 100 point closest to plane on each side\n",
    "    sort_idx_down = np.argsort(distance_down)\n",
    "    sort_idx_up   = np.argsort(distance_up)\n",
    "    \n",
    "    sort_idx_down = sort_idx_down[:nb_point]\n",
    "    sort_idx_up   = sort_idx_up[:nb_point]\n",
    "    \n",
    "    point_down = segment_down[sort_idx_down]\n",
    "    point_up   = segment_up[sort_idx_up]\n",
    "    \n",
    "    #Get the distance of lower points to upper points\n",
    "    dist_all_pts = np.zeros([nb_point,nb_point])\n",
    "    for i, p1 in enumerate(point_down):\n",
    "        for j, p2 in enumerate(point_up):\n",
    "            dist_all_pts[i, j] = distance_p2p(p1, p2)\n",
    "            \n",
    "    #if couple closer, then keep it\n",
    "    min_lgn = np.argmin(dist_all_pts, axis = 0)\n",
    "    min_col = np.argmin(dist_all_pts, axis = 1)\n",
    "    \n",
    "    #min_lgn == \n",
    "    #couple = point for point if\n",
    "    \n",
    "    return min_lgn, min_col"
   ]
  },
  {
   "cell_type": "code",
   "execution_count": 85,
   "metadata": {},
   "outputs": [
    {
     "name": "stdout",
     "output_type": "stream",
     "text": [
      "100\n",
      "[99 99 99 99 99 99 99 99 99 99 99 99 42 42 42 42 42 42 42 42 42 42 42 42\n",
      " 42 42 42 42 42 42 42 42 42 42 42 42 42 42 42 42 42 42 42 42 42 42 42 42\n",
      " 42 42 42 42 42 42 42 42 42 42 42 42 42 42 42 42 42 42 42 42 42 42 42 42\n",
      " 42 42 42 42 42 42 42 42 42 42 42 42 42 42 42 42 42 42 42 42 42 42 42 42\n",
      " 42 42 42 42]\n",
      "[ 0  0  0  0  0  0  0  0  0  0  0  0  0  0  0  0  0  0  0  0  0  0  0  0\n",
      "  0  0  0  0  0  0  0  0  0  0  0  0  0  0  0  0  0  0 18 18 18 18 18 18\n",
      " 18 18 18 18 18 18 18 18 18 18 18 18  0  0  0  0  0  0  0  0  0  0  0  0\n",
      "  0  0  0  0  0  0  0  0  0  0  0  0  0  0  0  0  0  6  6  6  6  6  6  6\n",
      "  6  6  6  6]\n"
     ]
    }
   ],
   "source": [
    "min_lgn, min_col = project_on_plane(plan, segment_down, segment_up)\n",
    "print(len(min_lgn))\n",
    "print(min_lgn)\n",
    "print(min_col)"
   ]
  },
  {
   "cell_type": "code",
   "execution_count": null,
   "metadata": {},
   "outputs": [],
   "source": []
  }
 ],
 "metadata": {
  "kernelspec": {
   "display_name": "Python 3",
   "language": "python",
   "name": "python3"
  },
  "language_info": {
   "codemirror_mode": {
    "name": "ipython",
    "version": 3
   },
   "file_extension": ".py",
   "mimetype": "text/x-python",
   "name": "python",
   "nbconvert_exporter": "python",
   "pygments_lexer": "ipython3",
   "version": "3.6.5"
  }
 },
 "nbformat": 4,
 "nbformat_minor": 2
}
