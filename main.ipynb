{
 "cells": [
  {
   "cell_type": "code",
   "execution_count": 1,
   "metadata": {
    "collapsed": true
   },
   "outputs": [],
   "source": [
    "#Pretty Display of Variables\n",
    "from IPython.core.interactiveshell import InteractiveShell\n",
    "InteractiveShell.ast_node_interactivity = \"all\""
   ]
  },
  {
   "cell_type": "code",
   "execution_count": 2,
   "metadata": {
    "collapsed": true
   },
   "outputs": [],
   "source": [
    "#%autoreload"
   ]
  },
  {
   "cell_type": "markdown",
   "metadata": {},
   "source": [
    "# Import libraries"
   ]
  },
  {
   "cell_type": "code",
   "execution_count": 27,
   "metadata": {},
   "outputs": [],
   "source": [
    "from plot_projections import plot_all_projections, plot_final_projections, plot_point_for_couple, plot_projection_up_down, plot_border\n",
    "from prop_info import extreme_points, vect_blade, d_blade, center_prop\n",
    "from get_segments import blade_alone, get_segments_points, get_planes\n",
    "from major_axis import get_major_axis\n",
    "#from projections import couple_all_planes, project_all_couples, projections_by_side, project_couple\n",
    "from new_projections import assign_points, get_all_points_for_projections, interpolations, find_separation_plane, interpolate_points, model_func\n",
    "from parameters import get_hub_points, get_hub_radius\n",
    "from plot_param import plot_hub\n",
    "from plot_prop import plot_pointcloud, plot_direction, plot_segments\n",
    "from myMathFunction import least_squares\n",
    "import matplotlib.pyplot as plt\n",
    "\n",
    "import pandas as pd\n",
    "import numpy as np"
   ]
  },
  {
   "cell_type": "markdown",
   "metadata": {},
   "source": [
    "# Pre-processing"
   ]
  },
  {
   "cell_type": "code",
   "execution_count": 5,
   "metadata": {},
   "outputs": [
    {
     "data": {
      "text/plain": [
       "(151986, 3)"
      ]
     },
     "execution_count": 5,
     "metadata": {},
     "output_type": "execute_result"
    }
   ],
   "source": [
    "propeller_coords = pd.read_csv('aerostar_data.csv')\n",
    "propeller_coords.shape"
   ]
  },
  {
   "cell_type": "code",
   "execution_count": 6,
   "metadata": {
    "collapsed": true
   },
   "outputs": [],
   "source": [
    "propeller_coords = propeller_coords.drop_duplicates(subset=None, keep='first', inplace=False)\n",
    "propeller_coords = propeller_coords.reset_index(drop=True)"
   ]
  },
  {
   "cell_type": "code",
   "execution_count": 7,
   "metadata": {
    "collapsed": true
   },
   "outputs": [],
   "source": [
    "max_point, min_point, middle_point, highest_point, lowest_point = extreme_points(propeller_coords)\n",
    "\n",
    "vect_length = vect_blade(max_point, min_point) \n",
    "\n",
    "dmiddle, dhighest, dlowest = d_blade(vect_length, middle_point, highest_point, lowest_point)\n",
    "\n",
    "upper_blade, lower_blade = blade_alone(propeller_coords, vect_length, dmiddle)\n",
    "\n",
    "vect_out, vect_side, hub_inner_radius = get_major_axis(propeller_coords, middle_point, vect_length)"
   ]
  },
  {
   "cell_type": "markdown",
   "metadata": {},
   "source": [
    "# Projections"
   ]
  },
  {
   "cell_type": "code",
   "execution_count": 8,
   "metadata": {
    "collapsed": true
   },
   "outputs": [],
   "source": [
    "nb_seg = 3\n",
    "resolution = 3\n",
    "\n",
    "planes = get_planes(upper_blade, dmiddle, dhighest, vect_length, nb_seg)\n",
    "segments = get_segments_points(upper_blade, planes, nb_seg)\n",
    "#plot_segments(segments)\n",
    "\n",
    "up, down = get_all_points_for_projections(planes, segments, nb_seg, resolution)"
   ]
  },
  {
   "cell_type": "code",
   "execution_count": 9,
   "metadata": {},
   "outputs": [
    {
     "name": "stdout",
     "output_type": "stream",
     "text": [
      "(322, 3)\n"
     ]
    }
   ],
   "source": [
    "up1 = up[0]\n",
    "dn1 = down[0]\n",
    "print(up1.shape)"
   ]
  },
  {
   "cell_type": "code",
   "execution_count": 10,
   "metadata": {
    "collapsed": true
   },
   "outputs": [],
   "source": [
    "# 1. Find border points\n",
    "up_right_border, up_left_border, _, _, _ = extreme_points(up1)\n",
    "dn_right_border, dn_left_border, _, _, _ = extreme_points(dn1)\n",
    "#print(\"up_right {}\\n\".format(up_right))"
   ]
  },
  {
   "cell_type": "code",
   "execution_count": 11,
   "metadata": {
    "collapsed": true
   },
   "outputs": [],
   "source": [
    "# 2. Find separating plane\n",
    "C_up = find_separation_plane(up1.values)\n",
    "C_dn = find_separation_plane(dn1.values)\n",
    "#print(\"C_up {}\\n\".format(C_up))"
   ]
  },
  {
   "cell_type": "code",
   "execution_count": 19,
   "metadata": {},
   "outputs": [],
   "source": [
    "# 3. Assign point to side  (do it for both sides on both sides)\n",
    "up_right_points, up_left_points = assign_points(C_up, up1)\n",
    "dn_right_points, dn_left_points = assign_points(C_dn, dn1)\n",
    "#print(\"right_points_up_shape {}\\n\".format(right_points_up.shape))"
   ]
  },
  {
   "cell_type": "code",
   "execution_count": null,
   "metadata": {},
   "outputs": [],
   "source": [
    "# Add border points to fit\n",
    "up_right_points_up.append(pd.DataFrame(up_right_border))\n",
    "up_right_points_up.append(pd.DataFrame(up_left_border))\n",
    "#print(\"right_points_up_shape {}\\n\".format(right_points_up.shape))"
   ]
  },
  {
   "cell_type": "code",
   "execution_count": 23,
   "metadata": {},
   "outputs": [],
   "source": [
    "# 4. Interpolate points\n",
    "up_right_popt = interpolate_points(up_right_points)\n",
    "up_left_popt = interpolate_points(up_left_points)\n",
    "dn_right_popt = interpolate_points(dn_right_points)\n",
    "dn_left_popt = interpolate_points(dn_left_points)"
   ]
  },
  {
   "cell_type": "markdown",
   "metadata": {},
   "source": [
    "def plot_interpolation(up1, popt):\n",
    "    fig = plt.figure()\n",
    "    ax = fig.gca(projection='3d')\n",
    "    data = np.c_[up1.values[:,0], up1.values[:,1]]\n",
    "    plt.plot(data, model_func(data, *popt), 'g--')\n",
    "    plt.show\n",
    "\n",
    "plot_interpolation(up_right_points, up_right_popt)"
   ]
  },
  {
   "cell_type": "code",
   "execution_count": null,
   "metadata": {
    "collapsed": true
   },
   "outputs": [],
   "source": [
    "# 5. Final projection\n",
    "\n",
    "# Prendre 100 points d'un côté à lâutre de chaque courbe\n",
    "\n",
    "# Relier 100 points en haut au 100 points en bas\n",
    "\n",
    "# Garder les projections sur le plan\n",
    "\n"
   ]
  },
  {
   "cell_type": "markdown",
   "metadata": {},
   "source": [
    "# Find parameters"
   ]
  },
  {
   "cell_type": "markdown",
   "metadata": {},
   "source": [
    "    - Tip radius \n",
    "        Projection dans le sens de la longueur et ... ??\n",
    "    - Blade twist \n",
    "        Project on planes as in projection\n",
    "        Compute difference of angle between main directions of projections (PCA possible)"
   ]
  },
  {
   "cell_type": "markdown",
   "metadata": {
    "collapsed": true
   },
   "source": [
    "### Hub radius"
   ]
  },
  {
   "cell_type": "code",
   "execution_count": null,
   "metadata": {
    "collapsed": true
   },
   "outputs": [],
   "source": [
    "hub_points = get_hub_points(propeller_coords, dmiddle, vect_length)\n",
    "\n",
    "hub_outer_radius, hub_inner_radius = get_hub_radius(hub_points, middle_point, vect_side)\n",
    "\n",
    "hub_radius = hub_outer_radius[2] - middle_point[2]  #from center to exterior radius"
   ]
  },
  {
   "cell_type": "code",
   "execution_count": null,
   "metadata": {},
   "outputs": [],
   "source": [
    "plot_hub(propeller_coords, hub_points, hub_outer_radius, hub_inner_radius)"
   ]
  },
  {
   "cell_type": "markdown",
   "metadata": {},
   "source": [
    "### Chord length"
   ]
  },
  {
   "cell_type": "code",
   "execution_count": null,
   "metadata": {},
   "outputs": [],
   "source": [
    "chord_length = np.linalg.norm(highest_point - middle_point) - hub_radius\n",
    "chord_length"
   ]
  },
  {
   "cell_type": "markdown",
   "metadata": {},
   "source": [
    "### Blade twist"
   ]
  },
  {
   "cell_type": "code",
   "execution_count": null,
   "metadata": {
    "collapsed": true
   },
   "outputs": [],
   "source": []
  },
  {
   "cell_type": "code",
   "execution_count": null,
   "metadata": {
    "collapsed": true
   },
   "outputs": [],
   "source": []
  }
 ],
 "metadata": {
  "kernelspec": {
   "display_name": "Python 3",
   "language": "python",
   "name": "python3"
  },
  "language_info": {
   "codemirror_mode": {
    "name": "ipython",
    "version": 3
   },
   "file_extension": ".py",
   "mimetype": "text/x-python",
   "name": "python",
   "nbconvert_exporter": "python",
   "pygments_lexer": "ipython3",
   "version": "3.6.5"
  }
 },
 "nbformat": 4,
 "nbformat_minor": 2
}
