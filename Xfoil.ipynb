{
 "cells": [
  {
   "cell_type": "code",
   "execution_count": 1,
   "metadata": {},
   "outputs": [],
   "source": [
    "%reload_ext autoreload\n",
    "%autoreload 2\n",
    "%matplotlib inline"
   ]
  },
  {
   "cell_type": "code",
   "execution_count": 2,
   "metadata": {},
   "outputs": [],
   "source": [
    "import matplotlib.pyplot as plt\n",
    "import pandas as pd\n",
    "import numpy as np"
   ]
  },
  {
   "cell_type": "code",
   "execution_count": 34,
   "metadata": {},
   "outputs": [],
   "source": [
    "from plot_prop import *\n",
    "from plot_projections import *\n",
    "from plot_param import *\n",
    "from prop_info import *\n",
    "from get_segments import blade_alone, get_segments_points, get_planes\n",
    "from new_projections import *\n",
    "from parameters import *\n",
    "from output_xfoil import *"
   ]
  },
  {
   "cell_type": "code",
   "execution_count": 4,
   "metadata": {},
   "outputs": [],
   "source": [
    "propeller = pd.read_csv('propeller_data.csv')"
   ]
  },
  {
   "cell_type": "code",
   "execution_count": 5,
   "metadata": {},
   "outputs": [],
   "source": [
    "positions = [33, 66]"
   ]
  },
  {
   "cell_type": "code",
   "execution_count": 6,
   "metadata": {},
   "outputs": [],
   "source": [
    "#####################################################################################################\n",
    "##########################            PRE-PROCESSING            #####################################\n",
    "#####################################################################################################\n",
    "propeller_coords, vect_length, vect_out, vect_side = prepare_propeller(propeller)\n",
    "\n",
    "dmiddle, dlowest, dhighest   = d_blade(vect_length, propeller_coords)                     #d of plan ax+by+cx+d = 0\n",
    "upper_blade, lower_blade     = blade_alone(propeller_coords, vect_length, dmiddle)        #points of each blades"
   ]
  },
  {
   "cell_type": "code",
   "execution_count": 15,
   "metadata": {},
   "outputs": [],
   "source": [
    "planes = get_planes_xfoil(upper_blade, dmiddle, dhighest, vect_length, positions) #get equations of planes for projection"
   ]
  },
  {
   "cell_type": "code",
   "execution_count": 12,
   "metadata": {
    "scrolled": true
   },
   "outputs": [
    {
     "name": "stdout",
     "output_type": "stream",
     "text": [
      "Points of plane 1\n",
      "Points of plane 2\n"
     ]
    }
   ],
   "source": [
    "all_plane_points = get_points(upper_blade, planes)                   #get points used for each projection"
   ]
  },
  {
   "cell_type": "code",
   "execution_count": 64,
   "metadata": {},
   "outputs": [
    {
     "name": "stdout",
     "output_type": "stream",
     "text": [
      "7\n",
      "11\n",
      "9\n",
      "11\n"
     ]
    }
   ],
   "source": [
    "#####################################################################################################\n",
    "##########################              PROJECTION              #####################################\n",
    "#####################################################################################################\n",
    "right_param, left_param, right_pts, left_pts = get_all_projections(planes, all_plane_points)"
   ]
  },
  {
   "cell_type": "code",
   "execution_count": 68,
   "metadata": {},
   "outputs": [
    {
     "data": {
      "text/plain": [
       "[array([-3.36838159e-05, -1.50562703e-04,  4.68298250e-03,  4.13809008e-01,\n",
       "         8.81481924e-01]),\n",
       " array([-3.35068748e-05, -1.96885126e-04,  6.12010936e-03,  2.10736895e-01,\n",
       "         9.20448394e-01])]"
      ]
     },
     "execution_count": 68,
     "metadata": {},
     "output_type": "execute_result"
    }
   ],
   "source": [
    "right_param"
   ]
  },
  {
   "cell_type": "code",
   "execution_count": 69,
   "metadata": {},
   "outputs": [
    {
     "data": {
      "text/plain": [
       "[array([ 4.74879186e-05,  1.60238978e-04,  4.48058006e-03,  5.12945433e-01,\n",
       "        -4.30118526e-01]),\n",
       " array([ 1.77105360e-05, -8.20433899e-05,  4.19560101e-03,  2.86262261e-01,\n",
       "        -2.69475172e-01])]"
      ]
     },
     "execution_count": 69,
     "metadata": {},
     "output_type": "execute_result"
    }
   ],
   "source": [
    "left_param"
   ]
  },
  {
   "cell_type": "code",
   "execution_count": 81,
   "metadata": {},
   "outputs": [],
   "source": [
    "x_list, y_right_list, y_left_list, right_pts, left_pts, rm = get_generated_points_xfoil(right_param, left_param, right_pts, left_pts)"
   ]
  },
  {
   "cell_type": "code",
   "execution_count": 60,
   "metadata": {},
   "outputs": [
    {
     "name": "stdout",
     "output_type": "stream",
     "text": [
      "Before\n",
      "[[  8.20183      7.0718355    5.941841     3.681852     1.421863\n",
      "   -0.838126    -3.098115    -5.358104    -7.618093    -8.7480875\n",
      "   -9.878082   -11.0080765  -12.138071   -12.70306825 -13.2680655\n",
      "  -13.83306275 -14.11556137 -14.39806   ]]\n"
     ]
    }
   ],
   "source": [
    "scale = 22.59989\n",
    "b = -14.39806\n",
    "x = [1, 0.95, 0.9, 0.8, 0.7, 0.6, 0.5, 0.4, 0.3, 0.25, 0.2, 0.15, 0.1, 0.0750, 0.05, 0.025, 0.0125, 0]\n",
    "x = [a * scale + b for a in x ] \n",
    "print(\"Before\")\n",
    "x = np.array( [x] )\n",
    "print(x)"
   ]
  },
  {
   "cell_type": "code",
   "execution_count": 56,
   "metadata": {},
   "outputs": [
    {
     "data": {
      "text/plain": [
       "3.681852000000001"
      ]
     },
     "execution_count": 56,
     "metadata": {},
     "output_type": "execute_result"
    }
   ],
   "source": [
    "0.8 * scale + b"
   ]
  },
  {
   "cell_type": "code",
   "execution_count": 61,
   "metadata": {},
   "outputs": [
    {
     "name": "stdout",
     "output_type": "stream",
     "text": [
      "[[1.     0.95   0.9    0.8    0.7    0.6    0.5    0.4    0.3    0.25\n",
      "  0.2    0.15   0.1    0.075  0.05   0.025  0.0125 0.    ]]\n"
     ]
    }
   ],
   "source": [
    "x = (x-b)/scale\n",
    "print(x)"
   ]
  },
  {
   "cell_type": "code",
   "execution_count": 58,
   "metadata": {},
   "outputs": [
    {
     "data": {
      "text/plain": [
       "[array([[14.76097658, 14.71097658, 14.56097658, 14.46097658, 14.36097658,\n",
       "         14.26097658, 14.16097658, 14.06097658, 14.01097658, 13.96097658,\n",
       "         13.91097658, 13.86097658, 13.83597658, 13.81097658, 13.78597658,\n",
       "         13.77347658, 13.76097658]]),\n",
       " array([[16.13279809, 16.08279809, 15.93279809, 15.83279809, 15.73279809,\n",
       "         15.63279809, 15.53279809, 15.43279809, 15.38279809, 15.33279809,\n",
       "         15.28279809, 15.23279809, 15.20779809, 15.18279809, 15.15779809,\n",
       "         15.14529809, 15.13279809]])]"
      ]
     },
     "execution_count": 58,
     "metadata": {},
     "output_type": "execute_result"
    }
   ],
   "source": [
    "x_list"
   ]
  },
  {
   "cell_type": "code",
   "execution_count": 84,
   "metadata": {},
   "outputs": [
    {
     "data": {
      "image/png": "[encoded data removed]",
      "text/plain": [
       "<matplotlib.figure.Figure at 0x173ff905828>"
      ]
     },
     "metadata": {},
     "output_type": "display_data"
    },
    {
     "data": {
      "image/png": "[encoded data removed]",
      "text/plain": [
       "<matplotlib.figure.Figure at 0x173ff7c6da0>"
      ]
     },
     "metadata": {},
     "output_type": "display_data"
    }
   ],
   "source": [
    "for i in range(len(all_plane_points) - rm):\n",
    "    plot_xfoil( x_list[i], y_right_list[i], y_left_list[i], positions[i] )"
   ]
  },
  {
   "cell_type": "code",
   "execution_count": null,
   "metadata": {},
   "outputs": [],
   "source": []
  }
 ],
 "metadata": {
  "kernelspec": {
   "display_name": "Python 3",
   "language": "python",
   "name": "python3"
  },
  "language_info": {
   "codemirror_mode": {
    "name": "ipython",
    "version": 3
   },
   "file_extension": ".py",
   "mimetype": "text/x-python",
   "name": "python",
   "nbconvert_exporter": "python",
   "pygments_lexer": "ipython3",
   "version": "3.6.5"
  }
 },
 "nbformat": 4,
 "nbformat_minor": 2
}
