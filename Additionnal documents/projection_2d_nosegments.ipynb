{
 "cells": [
  {
   "cell_type": "code",
   "execution_count": 1,
   "metadata": {},
   "outputs": [],
   "source": [
    "import matplotlib.pyplot as plt\n",
    "import pandas as pd\n",
    "import numpy as np"
   ]
  },
  {
   "cell_type": "code",
   "execution_count": 3,
   "metadata": {},
   "outputs": [],
   "source": [
    "from plot_prop import *\n",
    "from plot_projections import *\n",
    "from prop_info import *\n",
    "from get_segments import blade_alone, get_segments_points, get_planes\n",
    "from major_axis import get_major_axis"
   ]
  },
  {
   "cell_type": "code",
   "execution_count": 31,
   "metadata": {},
   "outputs": [],
   "source": [
    "def align_prop(propeller_coords):\n",
    "\t_, _, _, highest_point, _ = extreme_points(propeller_coords)\n",
    "\trotation_point = highest_point.copy()\n",
    "\trotation_point[2] = 0\n",
    "\n",
    "\ttheta =  np.arccos( (rotation_point @ [0,1,0]) / (np.linalg.norm(rotation_point) * np.linalg.norm([0,1,0]))) #* 180/np.pi\n",
    "\tct, st = np.cos(theta), np.sin(theta)\n",
    "\trotz = np.array(((ct,-st, 0), (st, ct, 0), (0,0,1)))\n",
    "\n",
    "\trot_proj = rotz @ highest_point\n",
    "\tphi =  - np.arccos( (rot_proj @ [0,0,1]) / (np.linalg.norm(rot_proj) * np.linalg.norm([0,0,1]))) #* 180/np.pi\n",
    "\tcp, sp = np.cos(phi), np.sin(phi)\n",
    "\trotx = np.array(((1, 0, 0), (0, cp, -sp), (0,sp,cp)))\n",
    "\n",
    "\tpropeller_coords = propeller_coords.apply(lambda x: rotx @ rotz @ x.values, axis = 1)\n",
    "\n",
    "\treturn propeller_coords"
   ]
  },
  {
   "cell_type": "markdown",
   "metadata": {},
   "source": [
    "### Pre-processing"
   ]
  },
  {
   "cell_type": "code",
   "execution_count": 34,
   "metadata": {},
   "outputs": [
    {
     "name": "stdout",
     "output_type": "stream",
     "text": [
      "<class 'pandas.core.frame.DataFrame'>\n",
      "<class 'pandas.core.series.Series'>\n",
      "0         [-2.500215339621357, -0.34855664607589754, 3.1...\n",
      "1         [-2.5344789164799972, -0.10450033333258252, 3....\n",
      "2         [-2.49980958859085, -0.02963921370682791, 3.11...\n",
      "3         [-2.49980958859085, -0.02963921370682791, 3.11...\n",
      "4         [-2.5344789164799972, -0.10450033333258252, 3....\n",
      "5         [-2.5346571031393226, 0.1947675155248033, 3.11...\n",
      "6         [-2.49980958859085, -0.02963921370682791, 3.11...\n",
      "7         [-2.5346571031393226, 0.1947675155248033, 3.11...\n",
      "8         [-2.500215339621357, 0.2892027169629748, 3.101...\n",
      "9         [-2.500215339621357, 0.2892027169629748, 3.101...\n",
      "10        [-2.5346571031393226, 0.1947675155248033, 3.11...\n",
      "11        [-2.535545822265356, 0.4917389086893906, 3.076...\n",
      "12        [-2.500215339621357, 0.2892027169629748, 3.101...\n",
      "13        [-2.535545822265356, 0.4917389086893906, 3.076...\n",
      "14        [-2.501427987921076, 0.6043565285264659, 3.049...\n",
      "15        [-2.501427987921076, 0.6043565285264659, 3.049...\n",
      "16        [-2.535545822265356, 0.4917389086893906, 3.076...\n",
      "17        [-2.537136245635493, 0.7834624195124639, 3.008...\n",
      "18        [-2.501427987921076, 0.6043565285264659, 3.049...\n",
      "19        [-2.537136245635493, 0.7834624195124639, 3.008...\n",
      "20        [-2.5034337988019706, 0.9122514311091945, 2.96...\n",
      "21        [-2.5034337988019706, 0.9122514311091945, 2.96...\n",
      "22        [-2.537136245635493, 0.7834624195124639, 3.008...\n",
      "23        [-2.5394125609980294, 1.067038732168643, 2.912...\n",
      "24        [-2.5034337988019706, 0.9122514311091945, 2.96...\n",
      "25        [-2.5394125609980294, 1.067038732168643, 2.912...\n",
      "26        [-2.5062100499786544, 1.2093987715725554, 2.84...\n",
      "27        [-2.5062100499786544, 1.2093987715725554, 2.84...\n",
      "28        [-2.5394125609980294, 1.067038732168643, 2.912...\n",
      "29        [-2.5423521542147283, 1.3396495254402407, 2.78...\n",
      "                                ...                        \n",
      "151956    [3.1814793291014114, -0.6975440988820045, 9.00...\n",
      "151957    [3.3696308475673975, -1.0671689254392558, 8.60...\n",
      "151958    [3.1176356043188314, -0.7191237190300954, 8.63...\n",
      "151959    [3.1176356043188314, -0.7191237190300954, 8.63...\n",
      "151960    [3.3696308475673975, -1.0671689254392558, 8.60...\n",
      "151961    [3.2502098519948848, -1.1197047642861544, 8.04...\n",
      "151962    [3.1176356043188314, -0.7191237190300954, 8.63...\n",
      "151963    [3.2502098519948848, -1.1197047642861544, 8.04...\n",
      "151964    [3.0097160345969645, -0.7620032176598915, 8.07...\n",
      "151965    [3.0097160345969645, -0.7620032176598915, 8.07...\n",
      "151966    [3.2502098519948848, -1.1197047642861544, 8.04...\n",
      "151967    [3.1836786332099756, -1.1521177488154153, 7.76...\n",
      "151968    [3.0097160345969645, -0.7620032176598915, 8.07...\n",
      "151969    [3.1836786332099756, -1.1521177488154153, 7.76...\n",
      "151970    [2.9502784758468286, -0.7883206684878447, 7.79...\n",
      "151971    [2.9502784758468286, -0.7883206684878447, 7.79...\n",
      "151972    [3.1836786332099756, -1.1521177488154153, 7.76...\n",
      "151973    [3.112880757159628, -1.1884798184235565, 7.486...\n",
      "151974    [2.9502784758468286, -0.7883206684878447, 7.79...\n",
      "151975    [3.112880757159628, -1.1884798184235565, 7.486...\n",
      "151976    [2.887549065506486, -0.8176532899010431, 7.513...\n",
      "151977    [3.5436765584018204, -1.8934978742040554, 7.43...\n",
      "151978    [3.32805030765413, -1.5410305400774142, 7.4611...\n",
      "151979    [3.4057090029267965, -1.4985737823949112, 7.74...\n",
      "151980    [3.5436765584018204, -1.8934978742040554, 7.43...\n",
      "151981    [3.4057090029267965, -1.4985737823949112, 7.74...\n",
      "151982    [3.626920860054596, -1.8458898755821154, 7.714...\n",
      "151983    [3.626920860054596, -1.8458898755821154, 7.714...\n",
      "151984    [3.4057090029267965, -1.4985737823949112, 7.74...\n",
      "151985    [3.4781395547897733, -1.4610186727213537, 8.01...\n",
      "Length: 151986, dtype: object\n"
     ]
    }
   ],
   "source": [
    "propeller = pd.read_csv('aerostar_data.csv')\n",
    "\n",
    "propeller = center_prop(propeller)\n",
    "print(type(propeller))\n",
    "propeller = align_prop(propeller)\n",
    "print(type(propeller))\n",
    "print(propeller)"
   ]
  },
  {
   "cell_type": "code",
   "execution_count": 33,
   "metadata": {},
   "outputs": [
    {
     "name": "stdout",
     "output_type": "stream",
     "text": [
      "<class 'pandas.core.frame.DataFrame'>\n",
      "<class 'pandas.core.series.Series'>\n",
      "0         [-2.500215339621357, -0.34855664607589754, 3.1...\n",
      "1         [-2.5344789164799972, -0.10450033333258252, 3....\n",
      "2         [-2.49980958859085, -0.02963921370682791, 3.11...\n",
      "3         [-2.49980958859085, -0.02963921370682791, 3.11...\n",
      "4         [-2.5344789164799972, -0.10450033333258252, 3....\n",
      "5         [-2.5346571031393226, 0.1947675155248033, 3.11...\n",
      "6         [-2.49980958859085, -0.02963921370682791, 3.11...\n",
      "7         [-2.5346571031393226, 0.1947675155248033, 3.11...\n",
      "8         [-2.500215339621357, 0.2892027169629748, 3.101...\n",
      "9         [-2.500215339621357, 0.2892027169629748, 3.101...\n",
      "10        [-2.5346571031393226, 0.1947675155248033, 3.11...\n",
      "11        [-2.535545822265356, 0.4917389086893906, 3.076...\n",
      "12        [-2.500215339621357, 0.2892027169629748, 3.101...\n",
      "13        [-2.535545822265356, 0.4917389086893906, 3.076...\n",
      "14        [-2.501427987921076, 0.6043565285264659, 3.049...\n",
      "15        [-2.501427987921076, 0.6043565285264659, 3.049...\n",
      "16        [-2.535545822265356, 0.4917389086893906, 3.076...\n",
      "17        [-2.537136245635493, 0.7834624195124639, 3.008...\n",
      "18        [-2.501427987921076, 0.6043565285264659, 3.049...\n",
      "19        [-2.537136245635493, 0.7834624195124639, 3.008...\n",
      "20        [-2.5034337988019706, 0.9122514311091945, 2.96...\n",
      "21        [-2.5034337988019706, 0.9122514311091945, 2.96...\n",
      "22        [-2.537136245635493, 0.7834624195124639, 3.008...\n",
      "23        [-2.5394125609980294, 1.067038732168643, 2.912...\n",
      "24        [-2.5034337988019706, 0.9122514311091945, 2.96...\n",
      "25        [-2.5394125609980294, 1.067038732168643, 2.912...\n",
      "26        [-2.5062100499786544, 1.2093987715725554, 2.84...\n",
      "27        [-2.5062100499786544, 1.2093987715725554, 2.84...\n",
      "28        [-2.5394125609980294, 1.067038732168643, 2.912...\n",
      "29        [-2.5423521542147283, 1.3396495254402407, 2.78...\n",
      "                                ...                        \n",
      "151956    [3.1814793291014114, -0.6975440988820045, 9.00...\n",
      "151957    [3.3696308475673975, -1.0671689254392558, 8.60...\n",
      "151958    [3.1176356043188314, -0.7191237190300954, 8.63...\n",
      "151959    [3.1176356043188314, -0.7191237190300954, 8.63...\n",
      "151960    [3.3696308475673975, -1.0671689254392558, 8.60...\n",
      "151961    [3.2502098519948848, -1.1197047642861544, 8.04...\n",
      "151962    [3.1176356043188314, -0.7191237190300954, 8.63...\n",
      "151963    [3.2502098519948848, -1.1197047642861544, 8.04...\n",
      "151964    [3.0097160345969645, -0.7620032176598915, 8.07...\n",
      "151965    [3.0097160345969645, -0.7620032176598915, 8.07...\n",
      "151966    [3.2502098519948848, -1.1197047642861544, 8.04...\n",
      "151967    [3.1836786332099756, -1.1521177488154153, 7.76...\n",
      "151968    [3.0097160345969645, -0.7620032176598915, 8.07...\n",
      "151969    [3.1836786332099756, -1.1521177488154153, 7.76...\n",
      "151970    [2.9502784758468286, -0.7883206684878447, 7.79...\n",
      "151971    [2.9502784758468286, -0.7883206684878447, 7.79...\n",
      "151972    [3.1836786332099756, -1.1521177488154153, 7.76...\n",
      "151973    [3.112880757159628, -1.1884798184235565, 7.486...\n",
      "151974    [2.9502784758468286, -0.7883206684878447, 7.79...\n",
      "151975    [3.112880757159628, -1.1884798184235565, 7.486...\n",
      "151976    [2.887549065506486, -0.8176532899010431, 7.513...\n",
      "151977    [3.5436765584018204, -1.8934978742040554, 7.43...\n",
      "151978    [3.32805030765413, -1.5410305400774142, 7.4611...\n",
      "151979    [3.4057090029267965, -1.4985737823949112, 7.74...\n",
      "151980    [3.5436765584018204, -1.8934978742040554, 7.43...\n",
      "151981    [3.4057090029267965, -1.4985737823949112, 7.74...\n",
      "151982    [3.626920860054596, -1.8458898755821154, 7.714...\n",
      "151983    [3.626920860054596, -1.8458898755821154, 7.714...\n",
      "151984    [3.4057090029267965, -1.4985737823949112, 7.74...\n",
      "151985    [3.4781395547897733, -1.4610186727213537, 8.01...\n",
      "Length: 151986, dtype: object\n"
     ]
    },
    {
     "ename": "TypeError",
     "evalue": "drop_duplicates() got an unexpected keyword argument 'subset'",
     "output_type": "error",
     "traceback": [
      "\u001b[1;31m---------------------------------------------------------------------------\u001b[0m",
      "\u001b[1;31mTypeError\u001b[0m                                 Traceback (most recent call last)",
      "\u001b[1;32m<ipython-input-33-46a1439fb5eb>\u001b[0m in \u001b[0;36m<module>\u001b[1;34m()\u001b[0m\n\u001b[0;32m      7\u001b[0m \u001b[0mprint\u001b[0m\u001b[1;33m(\u001b[0m\u001b[0mpropeller\u001b[0m\u001b[1;33m)\u001b[0m\u001b[1;33m\u001b[0m\u001b[0m\n\u001b[0;32m      8\u001b[0m \u001b[0mpropeller\u001b[0m\u001b[1;33m.\u001b[0m\u001b[0mreset_index\u001b[0m\u001b[1;33m(\u001b[0m\u001b[0mdrop\u001b[0m\u001b[1;33m=\u001b[0m\u001b[1;32mTrue\u001b[0m\u001b[1;33m)\u001b[0m\u001b[1;33m\u001b[0m\u001b[0m\n\u001b[1;32m----> 9\u001b[1;33m \u001b[0mpropeller_coords\u001b[0m \u001b[1;33m=\u001b[0m \u001b[0mpropeller\u001b[0m\u001b[1;33m.\u001b[0m\u001b[0mdrop_duplicates\u001b[0m\u001b[1;33m(\u001b[0m\u001b[0msubset\u001b[0m\u001b[1;33m=\u001b[0m\u001b[1;32mNone\u001b[0m\u001b[1;33m,\u001b[0m \u001b[0mkeep\u001b[0m\u001b[1;33m=\u001b[0m\u001b[1;34m'first'\u001b[0m\u001b[1;33m,\u001b[0m \u001b[0minplace\u001b[0m\u001b[1;33m=\u001b[0m\u001b[1;32mFalse\u001b[0m\u001b[1;33m)\u001b[0m\u001b[1;33m\u001b[0m\u001b[0m\n\u001b[0m\u001b[0;32m     10\u001b[0m \u001b[0mpropeller_coords\u001b[0m \u001b[1;33m=\u001b[0m \u001b[0mpropeller_coords\u001b[0m\u001b[1;33m.\u001b[0m\u001b[0mreset_index\u001b[0m\u001b[1;33m(\u001b[0m\u001b[0mdrop\u001b[0m\u001b[1;33m=\u001b[0m\u001b[1;32mTrue\u001b[0m\u001b[1;33m)\u001b[0m\u001b[1;33m\u001b[0m\u001b[0m\n\u001b[0;32m     11\u001b[0m \u001b[1;33m\u001b[0m\u001b[0m\n",
      "\u001b[1;31mTypeError\u001b[0m: drop_duplicates() got an unexpected keyword argument 'subset'"
     ]
    }
   ],
   "source": [
    "propeller.reset_index(drop=True)\n",
    "propeller_coords = propeller.drop_duplicates(subset=None, keep='first', inplace=False)\n",
    "propeller_coords = propeller_coords.reset_index(drop=True)\n",
    "\n",
    "max_point, min_point, middle_point, highest_point, lowest_point = extreme_points(propeller_coords)\n",
    "vect_length                = vect_blade(max_point, min_point) \n",
    "dmiddle, dhighest, dlowest = d_blade(vect_length, middle_point, highest_point, lowest_point)\n",
    "upper_blade, lower_blade   = blade_alone(propeller_coords, vect_length, dmiddle)\n",
    "vect_out, vect_side, hub_inner_radius = get_major_axis(propeller_coords, middle_point, vect_length)"
   ]
  },
  {
   "cell_type": "markdown",
   "metadata": {},
   "source": [
    "### Projections"
   ]
  },
  {
   "cell_type": "code",
   "execution_count": null,
   "metadata": {},
   "outputs": [],
   "source": [
    "nb_seg = 3\n",
    "size = 10  #propeller\n",
    "#size = 3   #aerostar\n",
    "planes = get_planes(upper_blade, dmiddle, dhighest, vect_length, nb_seg)"
   ]
  },
  {
   "cell_type": "code",
   "execution_count": 52,
   "metadata": {
    "collapsed": true
   },
   "outputs": [],
   "source": [
    "all_plane_points = get_points(propeller_coords, planes, size)"
   ]
  },
  {
   "cell_type": "code",
   "execution_count": 53,
   "metadata": {
    "collapsed": true
   },
   "outputs": [],
   "source": [
    "one_plane_point = all_plane_points[0]"
   ]
  },
  {
   "cell_type": "code",
   "execution_count": 58,
   "metadata": {
    "collapsed": true
   },
   "outputs": [],
   "source": [
    "def projection_results(one_plane_point):\n",
    "    \n",
    "    side1_border, side2_border, _, _, _ = extreme_points(one_plane_point)\n",
    "    \n",
    "    param_sides = find_separation_plane(one_plane_point.values)\n",
    "    \n",
    "    right_points, left_points = assign_points(param_sides, one_plane_point)\n",
    "    \n",
    "    right_points = add_border_points(right_points, side1_border, side2_border)\n",
    "    left_points  = add_border_points(left_points,  side1_border, side2_border)\n",
    "    \n",
    "    right_popt = interpolate_points(right_points)\n",
    "    left_popt  = interpolate_points(left_points)\n",
    "    \n",
    "    return right_popt, right_points, left_popt, left_points"
   ]
  },
  {
   "cell_type": "code",
   "execution_count": 61,
   "metadata": {},
   "outputs": [],
   "source": [
    "right_popt, right_points, left_popt, left_points = projection_results(one_plane_point)"
   ]
  },
  {
   "cell_type": "code",
   "execution_count": 63,
   "metadata": {},
   "outputs": [
    {
     "data": {
      "image/png": "[encoded data removed]",
      "text/plain": [
       "<matplotlib.figure.Figure at 0xb02de10>"
      ]
     },
     "metadata": {},
     "output_type": "display_data"
    }
   ],
   "source": [
    "plot_interpolation_both_sides(right_popt, right_points, left_popt, left_points, \"Aerostar_Aerofoil_weight_cubic_interpolation\")"
   ]
  },
  {
   "cell_type": "code",
   "execution_count": null,
   "metadata": {
    "collapsed": true
   },
   "outputs": [],
   "source": []
  }
 ],
 "metadata": {
  "kernelspec": {
   "display_name": "Python 3",
   "language": "python",
   "name": "python3"
  },
  "language_info": {
   "codemirror_mode": {
    "name": "ipython",
    "version": 3
   },
   "file_extension": ".py",
   "mimetype": "text/x-python",
   "name": "python",
   "nbconvert_exporter": "python",
   "pygments_lexer": "ipython3",
   "version": "3.6.5"
  }
 },
 "nbformat": 4,
 "nbformat_minor": 2
}
