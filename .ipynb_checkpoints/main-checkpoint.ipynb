{
 "cells": [
  {
   "cell_type": "code",
   "execution_count": 1,
   "metadata": {
    "collapsed": true
   },
   "outputs": [],
   "source": [
    "#Pretty Display of Variables\n",
    "from IPython.core.interactiveshell import InteractiveShell\n",
    "InteractiveShell.ast_node_interactivity = \"all\""
   ]
  },
  {
   "cell_type": "code",
   "execution_count": 2,
   "metadata": {
    "collapsed": true
   },
   "outputs": [],
   "source": [
    "#%autoreload"
   ]
  },
  {
   "cell_type": "markdown",
   "metadata": {},
   "source": [
    "# Import libraries"
   ]
  },
  {
   "cell_type": "code",
   "execution_count": 81,
   "metadata": {
    "collapsed": true
   },
   "outputs": [],
   "source": [
    "from plot_projections import plot_all_projections, plot_final_projections, plot_point_for_couple, plot_projection_up_down, plot_border\n",
    "from prop_info import extreme_points, vect_blade, d_blade, center_prop\n",
    "from get_segments import blade_alone, get_segments_points, get_planes\n",
    "from major_axis import get_major_axis\n",
    "#from projections import couple_all_planes, project_all_couples, projections_by_side, project_couple\n",
    "from new_projections import assign_points, get_all_points_for_projections, interpolations, find_separation_plane, interpolate_points, model_func, points_from_curve\n",
    "from parameters import get_hub_points, get_hub_radius\n",
    "from plot_param import plot_hub\n",
    "from plot_prop import plot_pointcloud, plot_direction, plot_segments\n",
    "from myMathFunction import least_squares, point_on_plane\n",
    "import matplotlib.pyplot as plt\n",
    "\n",
    "import pandas as pd\n",
    "import numpy as np"
   ]
  },
  {
   "cell_type": "markdown",
   "metadata": {},
   "source": [
    "# Pre-processing"
   ]
  },
  {
   "cell_type": "code",
   "execution_count": 4,
   "metadata": {},
   "outputs": [
    {
     "data": {
      "text/plain": [
       "(151986, 3)"
      ]
     },
     "execution_count": 4,
     "metadata": {},
     "output_type": "execute_result"
    }
   ],
   "source": [
    "propeller_coords = pd.read_csv('aerostar_data.csv')\n",
    "propeller_coords.shape"
   ]
  },
  {
   "cell_type": "code",
   "execution_count": 5,
   "metadata": {
    "collapsed": true
   },
   "outputs": [],
   "source": [
    "propeller_coords = propeller_coords.drop_duplicates(subset=None, keep='first', inplace=False)\n",
    "propeller_coords = propeller_coords.reset_index(drop=True)"
   ]
  },
  {
   "cell_type": "code",
   "execution_count": 6,
   "metadata": {
    "collapsed": true
   },
   "outputs": [],
   "source": [
    "max_point, min_point, middle_point, highest_point, lowest_point = extreme_points(propeller_coords)\n",
    "\n",
    "vect_length = vect_blade(max_point, min_point) \n",
    "\n",
    "dmiddle, dhighest, dlowest = d_blade(vect_length, middle_point, highest_point, lowest_point)\n",
    "\n",
    "upper_blade, lower_blade = blade_alone(propeller_coords, vect_length, dmiddle)\n",
    "\n",
    "vect_out, vect_side, hub_inner_radius = get_major_axis(propeller_coords, middle_point, vect_length)"
   ]
  },
  {
   "cell_type": "markdown",
   "metadata": {},
   "source": [
    "# Projections"
   ]
  },
  {
   "cell_type": "code",
   "execution_count": 7,
   "metadata": {
    "collapsed": true
   },
   "outputs": [],
   "source": [
    "nb_seg = 3\n",
    "resolution = 3\n",
    "\n",
    "planes = get_planes(upper_blade, dmiddle, dhighest, vect_length, nb_seg)\n",
    "segments = get_segments_points(upper_blade, planes, nb_seg)\n",
    "#plot_segments(segments)\n",
    "\n",
    "up, down = get_all_points_for_projections(planes, segments, nb_seg, resolution)"
   ]
  },
  {
   "cell_type": "code",
   "execution_count": 138,
   "metadata": {},
   "outputs": [],
   "source": [
    "up1 = up[0]\n",
    "dn1 = down[0]\n",
    "plan1 = planes[0]\n",
    "#print(up1.shape)"
   ]
  },
  {
   "cell_type": "code",
   "execution_count": 139,
   "metadata": {
    "collapsed": true
   },
   "outputs": [],
   "source": [
    "# 1. Find border points\n",
    "up_side1_border, up_side2_border, _, _, _ = extreme_points(up1)\n",
    "dn_side1_border, dn_side2_border, _, _, _ = extreme_points(dn1)\n",
    "#print(\"up_right {}\\n\".format(up_right))"
   ]
  },
  {
   "cell_type": "code",
   "execution_count": 140,
   "metadata": {
    "collapsed": true
   },
   "outputs": [],
   "source": [
    "# 2. Find separating plane\n",
    "C_up = find_separation_plane(up1.values)\n",
    "C_dn = find_separation_plane(dn1.values)\n",
    "# Z = C[4]*X**2. + C[5]*Y**2. + C[3]*X*Y + C[1]*X + C[2]*Y + C[0]\n",
    "#print(\"C_up {}\\n\".format(C_up))"
   ]
  },
  {
   "cell_type": "code",
   "execution_count": 141,
   "metadata": {},
   "outputs": [],
   "source": [
    "# 3. Assign point to side  (do it for both sides on both sides)\n",
    "up_right_points, up_left_points = assign_points(C_up, up1)\n",
    "dn_right_points, dn_left_points = assign_points(C_dn, dn1)\n",
    "#print(\"right_points_up_shape {}\\n\".format(up_right_points.shape))"
   ]
  },
  {
   "cell_type": "code",
   "execution_count": 142,
   "metadata": {},
   "outputs": [],
   "source": [
    "# Add border points to fit\n",
    "up_right_points = up_right_points.append(pd.DataFrame(up_side1_border.reshape(1, 3), columns = [\"X\",\"Y\",\"Z\"]))\n",
    "up_right_points = up_right_points.append(pd.DataFrame(up_side2_border.reshape(1, 3), columns = [\"X\",\"Y\",\"Z\"]))\n",
    "#print(\"up_right_points_shape {}\\n\".format(up_right_points.shape))"
   ]
  },
  {
   "cell_type": "code",
   "execution_count": 143,
   "metadata": {
    "collapsed": true
   },
   "outputs": [],
   "source": [
    "from scipy.optimize import curve_fit\n",
    "def interpolate_points(up1):\n",
    "    data = np.c_[up1.values[:,0], up1.values[:,1]]\n",
    "    z = up1.values[:,2]\n",
    "\n",
    "    sigma = np.ones(len(data))\n",
    "    sigma[[-1, -2]] = 0.05  #assign more weight to border points\n",
    "    popt, pcov = curve_fit(model_func, data, z, sigma=sigma)    \n",
    "    return popt\n"
   ]
  },
  {
   "cell_type": "code",
   "execution_count": 144,
   "metadata": {},
   "outputs": [],
   "source": [
    "# 4. Interpolate points\n",
    "up_right_popt = interpolate_points(up_right_points)\n",
    "up_left_popt = interpolate_points(up_left_points)\n",
    "dn_right_popt = interpolate_points(dn_right_points)\n",
    "dn_left_popt = interpolate_points(dn_left_points)"
   ]
  },
  {
   "cell_type": "code",
   "execution_count": 145,
   "metadata": {
    "collapsed": true
   },
   "outputs": [],
   "source": [
    "def plot_interpolation_side(up_right_border, up_left_border, popt):  \n",
    "    fig = plt.figure()\n",
    "    ax = fig.gca(projection='3d')\n",
    "    range_X_up_r = np.linspace(up_right_border[0], up_left_border[0], 100)\n",
    "    range_Y_up_r = np.linspace(up_right_border[1], up_left_border[1], 100)\n",
    "    \n",
    "    data = np.c_[range_X_up_r, range_Y_up_r]\n",
    "    z = model_func(data, *popt)\n",
    "    plt.plot(range_X_up_r, range_Y_up_r, z, 'g--')\n",
    "    plt.show()"
   ]
  },
  {
   "cell_type": "code",
   "execution_count": 146,
   "metadata": {
    "scrolled": true
   },
   "outputs": [
    {
     "data": {
      "image/png": "[encoded data removed]",
      "text/plain": [
       "<matplotlib.figure.Figure at 0xc4cb240>"
      ]
     },
     "metadata": {},
     "output_type": "display_data"
    }
   ],
   "source": [
    "plot_interpolation_side(up_side1_border, up_side2_border, up_right_popt)"
   ]
  },
  {
   "cell_type": "code",
   "execution_count": 147,
   "metadata": {
    "collapsed": true
   },
   "outputs": [],
   "source": [
    "nb_points = 100"
   ]
  },
  {
   "cell_type": "code",
   "execution_count": 148,
   "metadata": {},
   "outputs": [
    {
     "ename": "TypeError",
     "evalue": "model_func() missing 5 required positional arguments: 'd', 'e', 'f', 'g', and 'h'",
     "output_type": "error",
     "traceback": [
      "\u001b[1;31m---------------------------------------------------------------------------\u001b[0m",
      "\u001b[1;31mTypeError\u001b[0m                                 Traceback (most recent call last)",
      "\u001b[1;32m<ipython-input-148-b63298f45805>\u001b[0m in \u001b[0;36m<module>\u001b[1;34m()\u001b[0m\n\u001b[0;32m      1\u001b[0m \u001b[1;31m# 5. Final projection\u001b[0m\u001b[1;33m\u001b[0m\u001b[1;33m\u001b[0m\u001b[0m\n\u001b[0;32m      2\u001b[0m \u001b[1;31m# Take points on each side\u001b[0m\u001b[1;33m\u001b[0m\u001b[1;33m\u001b[0m\u001b[0m\n\u001b[1;32m----> 3\u001b[1;33m \u001b[0mup_right_pts\u001b[0m \u001b[1;33m=\u001b[0m \u001b[0mpoints_from_curve\u001b[0m\u001b[1;33m(\u001b[0m\u001b[0mup_right_border\u001b[0m\u001b[1;33m,\u001b[0m \u001b[0mup_left_border\u001b[0m\u001b[1;33m,\u001b[0m \u001b[0mnb_points\u001b[0m\u001b[1;33m,\u001b[0m \u001b[0mup_right_popt\u001b[0m\u001b[1;33m)\u001b[0m\u001b[1;33m\u001b[0m\u001b[0m\n\u001b[0m\u001b[0;32m      4\u001b[0m \u001b[0mdn_right_pts\u001b[0m \u001b[1;33m=\u001b[0m \u001b[0mpoints_from_curve\u001b[0m\u001b[1;33m(\u001b[0m\u001b[0mdn_right_border\u001b[0m\u001b[1;33m,\u001b[0m \u001b[0mdn_left_border\u001b[0m\u001b[1;33m,\u001b[0m \u001b[0mnb_points\u001b[0m\u001b[1;33m,\u001b[0m \u001b[0mdn_right_popt\u001b[0m\u001b[1;33m)\u001b[0m\u001b[1;33m\u001b[0m\u001b[0m\n\u001b[0;32m      5\u001b[0m \u001b[1;33m\u001b[0m\u001b[0m\n",
      "\u001b[1;32m~\\PropellerProject\\new_projections.py\u001b[0m in \u001b[0;36mpoints_from_curve\u001b[1;34m(up_right_border, up_left_border, nb_points, up_right_popt)\u001b[0m\n",
      "\u001b[1;31mTypeError\u001b[0m: model_func() missing 5 required positional arguments: 'd', 'e', 'f', 'g', and 'h'"
     ]
    }
   ],
   "source": [
    "# 5. Final projection\n",
    "# Take points on each side\n",
    "up_right_pts = points_from_curve(up_right_border, up_left_border, nb_points, up_right_popt)\n",
    "dn_right_pts = points_from_curve(dn_right_border, dn_left_border, nb_points, dn_right_popt)\n",
    "\n",
    "up_left_pts = points_from_curve(up_right_border, up_left_border, nb_points, up_left_popt) \n",
    "dn_left_pts = points_from_curve(dn_right_border, dn_left_border, nb_points, dn_left_popt)"
   ]
  },
  {
   "cell_type": "code",
   "execution_count": 114,
   "metadata": {},
   "outputs": [],
   "source": [
    "# Projection de la ligne reliant 2 points sur le plan\n",
    "proj_right = []\n",
    "proj_left = []\n",
    "for i in range(0, up_right_pts.shape[0]):\n",
    "    proj_right.append(point_on_plane(up_right_pts[i], dn_right_pts[i], plan1))\n",
    "    proj_left.append(point_on_plane(up_left_pts[i], dn_left_pts[i], plan1))"
   ]
  },
  {
   "cell_type": "code",
   "execution_count": null,
   "metadata": {
    "collapsed": true
   },
   "outputs": [],
   "source": []
  },
  {
   "cell_type": "code",
   "execution_count": null,
   "metadata": {
    "collapsed": true
   },
   "outputs": [],
   "source": []
  },
  {
   "cell_type": "code",
   "execution_count": null,
   "metadata": {
    "collapsed": true
   },
   "outputs": [],
   "source": []
  },
  {
   "cell_type": "code",
   "execution_count": null,
   "metadata": {
    "collapsed": true
   },
   "outputs": [],
   "source": []
  },
  {
   "cell_type": "markdown",
   "metadata": {},
   "source": [
    "# Find parameters"
   ]
  },
  {
   "cell_type": "markdown",
   "metadata": {},
   "source": [
    "    - Tip radius \n",
    "        Projection dans le sens de la longueur et ... ??\n",
    "    - Blade twist \n",
    "        Project on planes as in projection\n",
    "        Compute difference of angle between main directions of projections (PCA possible)"
   ]
  },
  {
   "cell_type": "markdown",
   "metadata": {
    "collapsed": true
   },
   "source": [
    "### Hub radius"
   ]
  },
  {
   "cell_type": "code",
   "execution_count": null,
   "metadata": {
    "collapsed": true
   },
   "outputs": [],
   "source": [
    "hub_points = get_hub_points(propeller_coords, dmiddle, vect_length)\n",
    "\n",
    "hub_outer_radius, hub_inner_radius = get_hub_radius(hub_points, middle_point, vect_side)\n",
    "\n",
    "hub_radius = hub_outer_radius[2] - middle_point[2]  #from center to exterior radius"
   ]
  },
  {
   "cell_type": "code",
   "execution_count": null,
   "metadata": {
    "collapsed": true
   },
   "outputs": [],
   "source": [
    "plot_hub(propeller_coords, hub_points, hub_outer_radius, hub_inner_radius)"
   ]
  },
  {
   "cell_type": "markdown",
   "metadata": {},
   "source": [
    "### Chord length"
   ]
  },
  {
   "cell_type": "code",
   "execution_count": null,
   "metadata": {
    "collapsed": true
   },
   "outputs": [],
   "source": [
    "chord_length = np.linalg.norm(highest_point - middle_point) - hub_radius\n",
    "chord_length"
   ]
  },
  {
   "cell_type": "markdown",
   "metadata": {},
   "source": [
    "### Blade twist"
   ]
  },
  {
   "cell_type": "code",
   "execution_count": null,
   "metadata": {
    "collapsed": true
   },
   "outputs": [],
   "source": []
  },
  {
   "cell_type": "markdown",
   "metadata": {
    "collapsed": true
   },
   "source": [
    "### Tip radius"
   ]
  },
  {
   "cell_type": "code",
   "execution_count": null,
   "metadata": {
    "collapsed": true
   },
   "outputs": [],
   "source": []
  },
  {
   "cell_type": "code",
   "execution_count": null,
   "metadata": {
    "collapsed": true
   },
   "outputs": [],
   "source": []
  },
  {
   "cell_type": "code",
   "execution_count": null,
   "metadata": {
    "collapsed": true
   },
   "outputs": [],
   "source": []
  }
 ],
 "metadata": {
  "kernelspec": {
   "display_name": "Python 3",
   "language": "python",
   "name": "python3"
  },
  "language_info": {
   "codemirror_mode": {
    "name": "ipython",
    "version": 3
   },
   "file_extension": ".py",
   "mimetype": "text/x-python",
   "name": "python",
   "nbconvert_exporter": "python",
   "pygments_lexer": "ipython3",
   "version": "3.6.5"
  }
 },
 "nbformat": 4,
 "nbformat_minor": 2
}
