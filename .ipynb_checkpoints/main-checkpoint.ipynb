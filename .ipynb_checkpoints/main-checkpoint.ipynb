{
 "cells": [
  {
   "cell_type": "markdown",
   "metadata": {},
   "source": [
    "# Import datapoints from STL file, display and plot eigenvectors"
   ]
  },
  {
   "cell_type": "markdown",
   "metadata": {},
   "source": [
    "## 1. Import librairies"
   ]
  },
  {
   "cell_type": "code",
   "execution_count": 5,
   "metadata": {},
   "outputs": [],
   "source": [
    "import numpy as np \n",
    "import stl\n",
    "from stl import mesh\n",
    "from pca import PCA\n",
    "from get_info import getBox, getSizeBox, middleOfPropeller\n",
    "from mpl_toolkits import mplot3d \n",
    "import matplotlib.pyplot as plt"
   ]
  },
  {
   "cell_type": "code",
   "execution_count": 6,
   "metadata": {},
   "outputs": [],
   "source": [
    "propellerMesh = mesh.Mesh.from_file('propeller.stl')"
   ]
  },
  {
   "cell_type": "code",
   "execution_count": 7,
   "metadata": {},
   "outputs": [],
   "source": [
    "#Get the outer box of the propeller position in file\n",
    "minx, maxx, miny, maxy, minz, maxz = getBox(propellerMesh)\n",
    "length, width, height = getSizeBox(minx, maxx, miny, maxy, minz, maxz)\n",
    "xmid, ymid, zmid = middleOfPropeller(minx, maxx, miny, maxy, minz, maxz)\n",
    "point_mid = np.asarray([xmid, ymid, zmid])"
   ]
  },
  {
   "cell_type": "markdown",
   "metadata": {},
   "source": [
    "## 2. Extract x, y, z coordinates from mesh"
   ]
  },
  {
   "cell_type": "code",
   "execution_count": 8,
   "metadata": {},
   "outputs": [],
   "source": [
    "x_coord = [x for ls in propellerMesh.x for x in ls]\n",
    "y_coord = [y for ls in propellerMesh.y for y in ls]\n",
    "z_coord = [z for ls in propellerMesh.z for z in ls]"
   ]
  },
  {
   "cell_type": "code",
   "execution_count": 9,
   "metadata": {},
   "outputs": [],
   "source": [
    "import pandas as pd\n",
    "\n",
    "propeller_coords = pd.DataFrame()"
   ]
  },
  {
   "cell_type": "code",
   "execution_count": 10,
   "metadata": {},
   "outputs": [],
   "source": [
    "propeller_coords[\"X\"] = x_coord\n",
    "propeller_coords[\"Y\"] = y_coord\n",
    "propeller_coords[\"Z\"] = z_coord"
   ]
  },
  {
   "cell_type": "code",
   "execution_count": 11,
   "metadata": {},
   "outputs": [],
   "source": [
    "# to save the dataframe\n",
    "propeller_coords.to_csv('propeller_data.csv', index = False) # index = False sinon l'indice est sauvegardée dans une colonne"
   ]
  },
  {
   "cell_type": "code",
   "execution_count": 12,
   "metadata": {},
   "outputs": [
    {
     "data": {
      "text/html": [
       "<div>\n",
       "<style scoped>\n",
       "    .dataframe tbody tr th:only-of-type {\n",
       "        vertical-align: middle;\n",
       "    }\n",
       "\n",
       "    .dataframe tbody tr th {\n",
       "        vertical-align: top;\n",
       "    }\n",
       "\n",
       "    .dataframe thead th {\n",
       "        text-align: right;\n",
       "    }\n",
       "</style>\n",
       "<table border=\"1\" class=\"dataframe\">\n",
       "  <thead>\n",
       "    <tr style=\"text-align: right;\">\n",
       "      <th></th>\n",
       "      <th>X</th>\n",
       "      <th>Y</th>\n",
       "      <th>Z</th>\n",
       "    </tr>\n",
       "  </thead>\n",
       "  <tbody>\n",
       "    <tr>\n",
       "      <th>0</th>\n",
       "      <td>29.688456</td>\n",
       "      <td>4.5</td>\n",
       "      <td>126.315445</td>\n",
       "    </tr>\n",
       "    <tr>\n",
       "      <th>1</th>\n",
       "      <td>30.235447</td>\n",
       "      <td>5.9</td>\n",
       "      <td>126.363289</td>\n",
       "    </tr>\n",
       "    <tr>\n",
       "      <th>2</th>\n",
       "      <td>30.235447</td>\n",
       "      <td>4.5</td>\n",
       "      <td>126.363289</td>\n",
       "    </tr>\n",
       "    <tr>\n",
       "      <th>3</th>\n",
       "      <td>30.235447</td>\n",
       "      <td>4.5</td>\n",
       "      <td>126.363289</td>\n",
       "    </tr>\n",
       "    <tr>\n",
       "      <th>4</th>\n",
       "      <td>30.235447</td>\n",
       "      <td>5.9</td>\n",
       "      <td>126.363289</td>\n",
       "    </tr>\n",
       "  </tbody>\n",
       "</table>\n",
       "</div>"
      ],
      "text/plain": [
       "           X    Y           Z\n",
       "0  29.688456  4.5  126.315445\n",
       "1  30.235447  5.9  126.363289\n",
       "2  30.235447  4.5  126.363289\n",
       "3  30.235447  4.5  126.363289\n",
       "4  30.235447  5.9  126.363289"
      ]
     },
     "execution_count": 12,
     "metadata": {},
     "output_type": "execute_result"
    }
   ],
   "source": [
    "# display first 5 datapoints \n",
    "propeller_coords.head(5)"
   ]
  },
  {
   "cell_type": "markdown",
   "metadata": {},
   "source": [
    "## 3. Load data from dataframe\n",
    "\n",
    "Once the data has been saved into a dataframe, you can run the code from here."
   ]
  },
  {
   "cell_type": "code",
   "execution_count": 13,
   "metadata": {},
   "outputs": [],
   "source": [
    "import numpy as np \n",
    "import pandas as pd\n",
    "import stl\n",
    "from stl import mesh\n",
    "from pca import PCA\n",
    "from mpl_toolkits import mplot3d \n",
    "import matplotlib.pyplot as plt"
   ]
  },
  {
   "cell_type": "code",
   "execution_count": 14,
   "metadata": {},
   "outputs": [],
   "source": [
    "import math\n",
    "\n",
    "def roundup(x):\n",
    "    '''\n",
    "    Round up to closest 10th\n",
    "    '''\n",
    "    return float(int(math.ceil(x / 10.0)) * 10)\n",
    "\n",
    "def rounddown(x):\n",
    "    '''\n",
    "    Round down to closest 10th\n",
    "    '''\n",
    "    return float(int(math.floor(x / 10.0)) * 10)"
   ]
  },
  {
   "cell_type": "code",
   "execution_count": 15,
   "metadata": {},
   "outputs": [],
   "source": [
    "def findMinMaxDF(data):\n",
    "    '''\n",
    "    Find the minimum and maximum values of a dataframe\n",
    "    '''\n",
    "    \n",
    "    min_df = rounddown(np.min(np.min(data)))\n",
    "    max_df = roundup(np.max(np.max(data)))\n",
    "    \n",
    "    return min_df, max_df"
   ]
  },
  {
   "cell_type": "code",
   "execution_count": 16,
   "metadata": {},
   "outputs": [],
   "source": [
    "# read dataframe\n",
    "propeller_coords = pd.read_csv('propeller_data.csv')"
   ]
  },
  {
   "cell_type": "markdown",
   "metadata": {},
   "source": [
    "## Find maximum direction"
   ]
  },
  {
   "cell_type": "code",
   "execution_count": 17,
   "metadata": {},
   "outputs": [],
   "source": [
    "def extreme_points(propeller_coords):\n",
    "    maxz = np.max(propeller_coords[\"Z\"])\n",
    "    points_maxz = propeller_coords.loc[propeller_coords[\"Z\"] == maxz]\n",
    "    maxzx = np.mean(points_maxz[\"X\"])\n",
    "    maxzy = np.mean(points_maxz[\"Y\"])\n",
    "    max_point = np.asarray([maxzx, maxzy, maxz])\n",
    "    \n",
    "    minz = np.min(propeller_coords[\"Z\"])\n",
    "    points_minz = propeller_coords.loc[propeller_coords[\"Z\"] == minz]\n",
    "    minzx = np.mean(points_minz[\"X\"])\n",
    "    minzy = np.mean(points_minz[\"Y\"])\n",
    "    min_point = np.asarray([minzx, minzy, minz])\n",
    "    \n",
    "    midx = np.mean(propeller_coords[\"X\"])\n",
    "    midy = np.mean(propeller_coords[\"Y\"])\n",
    "    midz = np.mean(propeller_coords[\"Z\"])\n",
    "    middle_point = np.asarray([midx, midy, midz])\n",
    "    \n",
    "    return max_point, min_point, middle_point"
   ]
  },
  {
   "cell_type": "code",
   "execution_count": 18,
   "metadata": {},
   "outputs": [],
   "source": [
    "max_point, min_point, middle_point = extreme_points(propeller_coords)"
   ]
  },
  {
   "cell_type": "code",
   "execution_count": 19,
   "metadata": {},
   "outputs": [],
   "source": [
    "#Vecteur directeur donc normal au plan de coupe\n",
    "def blade_info(max_point, min_point, middle_point):\n",
    "    vect_upper = max_point - middle_point\n",
    "    print(vect_upper)\n",
    "    vect_lower = middle_point - min_point\n",
    "    print(vect_lower)\n",
    "    dmiddle = - middle_point @ vect_upper\n",
    "    dmax = - max_point @ vect_upper\n",
    "    dmin = - min_point @ vect_lower\n",
    "    return vect_upper, vect_lower, dmiddle, dmax, dmin"
   ]
  },
  {
   "cell_type": "code",
   "execution_count": 20,
   "metadata": {},
   "outputs": [
    {
     "name": "stdout",
     "output_type": "stream",
     "text": [
      "[-26.78703217  -0.98534548 123.19770651]\n",
      "[-26.7958241    0.97585526 123.20228595]\n"
     ]
    }
   ],
   "source": [
    "vect_upper, vect_lower, dmiddle, dmax, dmin = blade_info(max_point, min_point, middle_point)"
   ]
  },
  {
   "cell_type": "markdown",
   "metadata": {},
   "source": [
    "## Choose blade"
   ]
  },
  {
   "cell_type": "code",
   "execution_count": 21,
   "metadata": {},
   "outputs": [],
   "source": [
    "def blade_alone(propeller_coords, vect_upper, middle_point, dmiddle):\n",
    "    upper = []\n",
    "    lower = []\n",
    "    for index, point in propeller_coords.iterrows():\n",
    "        if(point @ vect_upper + dmiddle > 0):\n",
    "            upper.append(index)\n",
    "        else:\n",
    "            lower.append(index)\n",
    "    upper_blade = propeller_coords.iloc[upper].copy()\n",
    "    lower_blade = propeller_coords.iloc[lower].copy()\n",
    "    \n",
    "    return upper_blade, lower_blade"
   ]
  },
  {
   "cell_type": "code",
   "execution_count": 22,
   "metadata": {},
   "outputs": [],
   "source": [
    "upper_blade, lower_blade = blade_alone(propeller_coords, vect_upper, middle_point, dmiddle)"
   ]
  },
  {
   "cell_type": "markdown",
   "metadata": {},
   "source": [
    "## Get segments of blade"
   ]
  },
  {
   "cell_type": "code",
   "execution_count": 38,
   "metadata": {},
   "outputs": [],
   "source": [
    "# Consider upper blade\n",
    "def get_segments(blade, dmiddle, d_max, vect, nb_seg):\n",
    "    delta_d = (d_max - dmiddle)/nb_seg\n",
    "    \n",
    "    last_plane = np.append(vect, dmiddle)\n",
    "    \n",
    "    #new_plane = np.array([0,0,0,0])\n",
    "    segments = {}\n",
    "    segments[\"points\"] = []\n",
    "    \n",
    "    for i in range(nb_seg):\n",
    "        index_segment = []\n",
    "        new_plane = last_plane[:] + [0,0,0,delta_d]\n",
    "        \n",
    "        for index, point in blade.iterrows():\n",
    "            point_mult = np.append(point, 1)         \n",
    "            if(point_mult @ last_plane > 0 and point_mult @ new_plane < 0):\n",
    "                index_segment.append(index)\n",
    "        \n",
    "        last_plane = new_plane\n",
    "        \n",
    "        segments[\"points\"].append(blade.loc[index_segment].copy().as_matrix())\n",
    "        \n",
    "    return segments"
   ]
  },
  {
   "cell_type": "code",
   "execution_count": 39,
   "metadata": {},
   "outputs": [
    {
     "name": "stderr",
     "output_type": "stream",
     "text": [
      "C:\\Users\\Pauli\\Anaconda3\\lib\\site-packages\\ipykernel_launcher.py:22: FutureWarning: Method .as_matrix will be removed in a future version. Use .values instead.\n"
     ]
    }
   ],
   "source": [
    "segments = get_segments(upper_blade, dmiddle, dmax, vect_upper, 4)"
   ]
  },
  {
   "cell_type": "code",
   "execution_count": 40,
   "metadata": {},
   "outputs": [],
   "source": [
    "class Segment:\n",
    "    def __init__(self, nb, array):\n",
    "        self.nb = nb\n",
    "        self.points = array"
   ]
  },
  {
   "cell_type": "code",
   "execution_count": 42,
   "metadata": {},
   "outputs": [
    {
     "name": "stdout",
     "output_type": "stream",
     "text": [
      "0\n",
      "[[ 29.68845558   4.50000048 126.31544495]\n",
      " [ 30.23544693   5.9000001  126.36328888]\n",
      " [ 30.23544693   4.50000048 126.36328888]\n",
      " ...\n",
      " [ 26.29621696   4.50000048 122.51869965]\n",
      " [ 26.29621696   0.         122.51869965]\n",
      " [ 26.29621696   4.50000048 122.51869965]]\n",
      "1\n",
      "[[  9.20484447   1.22805822 178.87841797]\n",
      " [ 35.55157089   9.94059086 178.87841797]\n",
      " [ 35.5450592    9.94915962 178.87841797]\n",
      " ...\n",
      " [ 22.08734512   6.8460784  178.87841797]\n",
      " [ 18.82915497   5.56287813 178.87841797]\n",
      " [ 22.08734512   6.8460784  178.87841797]]\n",
      "2\n",
      "[[  7.23035622   1.48444605 186.72817993]\n",
      " [  7.25157928   1.49686444 186.72817993]\n",
      " [ 25.44337845   6.49938345 217.73016357]\n",
      " ...\n",
      " [ 25.35240173   6.77403164 217.73016357]\n",
      " [ 25.25393486   6.83001661 217.73016357]\n",
      " [ 25.35240173   6.77403164 217.73016357]]\n",
      "3\n",
      "[[  5.5438633    4.00505877 246.4132843 ]\n",
      " [  5.54101181   4.01123238 246.4132843 ]\n",
      " [  5.27225637   3.80780339 246.4132843 ]\n",
      " ...\n",
      " [ 11.71065235   4.45398664 239.60983276]\n",
      " [  5.54293203   3.94791794 246.4132843 ]\n",
      " [  5.54038048   3.94321847 246.4132843 ]]\n"
     ]
    }
   ],
   "source": [
    "for i, array in enumerate(segments[\"points\"]):\n",
    "    print(i)\n",
    "    print(array)"
   ]
  },
  {
   "cell_type": "markdown",
   "metadata": {},
   "source": [
    "##  Display"
   ]
  },
  {
   "cell_type": "code",
   "execution_count": 153,
   "metadata": {},
   "outputs": [],
   "source": [
    "# found in https://sebastianraschka.com/Articles/2014_pca_step_by_step.html\n",
    "\n",
    "from mpl_toolkits.mplot3d import Axes3D\n",
    "from mpl_toolkits.mplot3d import proj3d\n",
    "from matplotlib.patches import FancyArrowPatch\n",
    "\n",
    "\n",
    "class Arrow3D(FancyArrowPatch):\n",
    "    def __init__(self, xs, ys, zs, *args, **kwargs):\n",
    "        FancyArrowPatch.__init__(self, (0,0), (0,0), *args, **kwargs)\n",
    "        self._verts3d = xs, ys, zs\n",
    "\n",
    "    def draw(self, renderer):\n",
    "        xs3d, ys3d, zs3d = self._verts3d\n",
    "        xs, ys, zs = proj3d.proj_transform(xs3d, ys3d, zs3d, renderer.M)\n",
    "        self.set_positions((xs[0],ys[0]),(xs[1],ys[1]))\n",
    "        FancyArrowPatch.draw(self, renderer)"
   ]
  },
  {
   "cell_type": "code",
   "execution_count": 161,
   "metadata": {},
   "outputs": [
    {
     "data": {
      "image/png": "[encoded data removed]",
      "text/plain": [
       "<matplotlib.figure.Figure at 0x1f3785c64e0>"
      ]
     },
     "metadata": {},
     "output_type": "display_data"
    }
   ],
   "source": [
    "fig = plt.figure()\n",
    "\n",
    "ax = fig.add_subplot(111, projection = '3d')\n",
    "#ax.scatter(x_coord, y_coord, z_coord) # marche aussi\n",
    "\n",
    "#ax.scatter(propeller_coords[\"X\"], propeller_coords[\"Y\"], propeller_coords[\"Z\"])\n",
    "\n",
    "# markersize et alpha contrôlent la taille des points, i.e. le rendering de l'objet\n",
    "ax.plot(propeller_coords[\"X\"], propeller_coords[\"Y\"], propeller_coords[\"Z\"], 'o', markersize=3, alpha=0.2)\n",
    "\n",
    "downlim, uplim = findMinMaxDF(propeller_coords)\n",
    "\n",
    "ax.plot([np.mean(propeller_coords[\"X\"])], [np.mean(propeller_coords[\"Y\"])], [np.mean(propeller_coords[\"Z\"])],\n",
    "        'o', markersize=10, color='red', alpha=0.5)\n",
    "\n",
    "#for v in eigenvectors.T:\n",
    "a = Arrow3D([np.mean(propeller_coords[\"X\"]), np.mean(propeller_coords[\"X\"]) + vect_upper[0]], \n",
    "            [np.mean(propeller_coords[\"Y\"]), np.mean(propeller_coords[\"Y\"]) + vect_upper[1]], \n",
    "            [np.mean(propeller_coords[\"Z\"]), np.mean(propeller_coords[\"Z\"]) + vect_upper[2]], \n",
    "            mutation_scale=20, lw=3, arrowstyle=\"-|>\", color=\"r\")\n",
    "ax.add_artist(a)\n",
    "\n",
    "ax.set_xlabel('x_values')\n",
    "ax.set_ylabel('y_values')\n",
    "ax.set_zlabel('z_values')\n",
    "\n",
    "ax.set_xlim([downlim, uplim]);\n",
    "ax.set_ylim([downlim, uplim]);\n",
    "ax.set_zlim([downlim, uplim]);\n",
    "\n",
    "plt.title('Eigenvectors')\n",
    "\n",
    "plt.show()"
   ]
  },
  {
   "cell_type": "code",
   "execution_count": null,
   "metadata": {},
   "outputs": [],
   "source": []
  }
 ],
 "metadata": {
  "kernelspec": {
   "display_name": "Python 3",
   "language": "python",
   "name": "python3"
  },
  "language_info": {
   "codemirror_mode": {
    "name": "ipython",
    "version": 3
   },
   "file_extension": ".py",
   "mimetype": "text/x-python",
   "name": "python",
   "nbconvert_exporter": "python",
   "pygments_lexer": "ipython3",
   "version": "3.6.5"
  }
 },
 "nbformat": 4,
 "nbformat_minor": 2
}
